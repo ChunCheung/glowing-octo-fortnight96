{
 "cells": [
  {
   "cell_type": "code",
   "execution_count": null,
   "metadata": {
    "collapsed": true
   },
   "outputs": [],
   "source": [
    "%matplotlib inline\n",
    "import pandas as pd\n",
    "import pylab\n",
    "import numpy as np\n",
    "import matplotlib as mpl\n",
    "import matplotlib.pyplot as plt\n",
    "import seaborn as sns\n",
    "import scipy as sci\n",
    "from fastdtw import fastdtw\n",
    "from scipy.spatial.distance import euclidean\n",
    "\n",
    "import random\n",
    "from scipy.cluster.hierarchy import dendrogram, linkage\n",
    "import scipy.spatial.distance as ssd\n",
    "from sklearn.ensemble import RandomForestClassifier\n",
    "import sklearn\n",
    "from time import time\n",
    "import gc\n",
    "from sklearn.neural_network import MLPClassifier"
   ]
  },
  {
   "cell_type": "code",
   "execution_count": null,
   "metadata": {
    "collapsed": true
   },
   "outputs": [],
   "source": [
    "def mag(x):\n",
    "    if x>0:\n",
    "        return -2.5*np.log(x)\n",
    "    else:\n",
    "        return 10"
   ]
  },
  {
   "cell_type": "code",
   "execution_count": null,
   "metadata": {
    "collapsed": true
   },
   "outputs": [],
   "source": [
    "def dist(x):\n",
    "    if x>0:\n",
    "        return 44+3*np.log(x)\n",
    "    else:\n",
    "        return 0"
   ]
  },
  {
   "cell_type": "code",
   "execution_count": null,
   "metadata": {
    "collapsed": true
   },
   "outputs": [],
   "source": [
    "test_meta=pd.read_csv(\"/modules/cs342/Assignment2/test_set_metadata.csv\")\n",
    "object_id=test_meta['object_id']"
   ]
  },
  {
   "cell_type": "code",
   "execution_count": null,
   "metadata": {
    "collapsed": false
   },
   "outputs": [],
   "source": [
    "test=pd.read_csv('/dcs/17/u1403100/Downloads/A2/test_final.csv')\n",
    "train=pd.read_csv('/dcs/17/u1403100/Downloads/A2/train_final.csv')\n"
   ]
  },
  {
   "cell_type": "code",
   "execution_count": null,
   "metadata": {
    "collapsed": false,
    "scrolled": true
   },
   "outputs": [],
   "source": [
    "drop_columns=['1_band_Min','4_band_Min','2_band_Median','4_band_Median'\n",
    "             ,'2_band_Low_Count','4_band_Low_Count','ra','decl','distmod']\n",
    "test3=test.drop(drop_columns,axis=1)\n",
    "test3.drop(list(test3.filter(regex = 'Max')), axis = 1, inplace = True)\n",
    "train3=train.drop(drop_columns,axis=1)\n",
    "train3.drop(list(train3.filter(regex = 'Max')), axis = 1, inplace = True)"
   ]
  },
  {
   "cell_type": "code",
   "execution_count": null,
   "metadata": {
    "collapsed": false
   },
   "outputs": [],
   "source": [
    "train3.shape"
   ]
  },
  {
   "cell_type": "code",
   "execution_count": null,
   "metadata": {
    "collapsed": false
   },
   "outputs": [],
   "source": [
    "test3.shape"
   ]
  },
  {
   "cell_type": "code",
   "execution_count": null,
   "metadata": {
    "collapsed": false
   },
   "outputs": [],
   "source": [
    "train3.columns-test3.columns"
   ]
  },
  {
   "cell_type": "code",
   "execution_count": null,
   "metadata": {
    "collapsed": false,
    "scrolled": true
   },
   "outputs": [],
   "source": [
    "\"\"\"\n",
    "test.drop(list(test.filter(regex = 'object')), axis = 1, inplace = True)\n",
    "test.drop(['last_row'],axis=1,inplace=True)\n",
    "test.rename(columns={'duration': 'detection_length'}, inplace=True)\n",
    "\"\"\""
   ]
  },
  {
   "cell_type": "code",
   "execution_count": null,
   "metadata": {
    "collapsed": false
   },
   "outputs": [],
   "source": [
    "\"\"\"test['distmod']=test['hostgal_photoz'].apply(dist)\n",
    "for i in range(6):\n",
    "    test[str(i)+'_band_abs_mag']=test[str(i)+'_band_Max'].apply(mag)-test['distmod']\n",
    "\n",
    "test.drop('hostgal_specz',axis=1,inplace=True)\"\"\""
   ]
  },
  {
   "cell_type": "code",
   "execution_count": null,
   "metadata": {
    "collapsed": false
   },
   "outputs": [],
   "source": [
    "\"\"\"train['distmod']=train['hostgal_photoz'].apply(dist)\n",
    "for i in range(6):\n",
    "    train[str(i)+'_band_abs_mag']=train[str(i)+'_band_Max'].apply(mag)-train['distmod']\n",
    "\n",
    "train.drop('hostgal_specz',axis=1,inplace=True)\n",
    "test['0_band_Median']=test['0_band_Median'].fillna(0)\"\"\""
   ]
  },
  {
   "cell_type": "code",
   "execution_count": null,
   "metadata": {
    "collapsed": false
   },
   "outputs": [],
   "source": [
    "\"\"\"test.fillna(0,inplace=True)\n",
    "test=test.replace([np.inf,-np.inf], 0)\"\"\""
   ]
  },
  {
   "cell_type": "code",
   "execution_count": null,
   "metadata": {
    "collapsed": false,
    "scrolled": true
   },
   "outputs": [],
   "source": []
  },
  {
   "cell_type": "code",
   "execution_count": null,
   "metadata": {
    "collapsed": false
   },
   "outputs": [],
   "source": []
  },
  {
   "cell_type": "code",
   "execution_count": null,
   "metadata": {
    "collapsed": false,
    "scrolled": true
   },
   "outputs": [],
   "source": [
    "\n",
    "train_x=train.drop(['target','object_id'],axis=1)\n",
    "train_y=train['target'].fillna(99)\n",
    "\n",
    "\n",
    "rfc=RandomForestClassifier(n_estimators=90, min_samples_leaf=10,n_jobs=1)\n",
    "rfc.fit(train_x,train_y)\n",
    "print(rfc.classes_)\n",
    "\n"
   ]
  },
  {
   "cell_type": "code",
   "execution_count": null,
   "metadata": {
    "collapsed": true
   },
   "outputs": [],
   "source": [
    "pred=rfc.predict_proba(test.loc[:1800000,:])\n",
    "pred2=rfc.predict_proba(test.loc[1800001:,:])"
   ]
  },
  {
   "cell_type": "code",
   "execution_count": null,
   "metadata": {
    "collapsed": false
   },
   "outputs": [],
   "source": []
  },
  {
   "cell_type": "code",
   "execution_count": null,
   "metadata": {
    "collapsed": false
   },
   "outputs": [],
   "source": [
    "test.shape"
   ]
  },
  {
   "cell_type": "code",
   "execution_count": null,
   "metadata": {
    "collapsed": false
   },
   "outputs": [],
   "source": [
    "pred.shape"
   ]
  },
  {
   "cell_type": "code",
   "execution_count": null,
   "metadata": {
    "collapsed": false
   },
   "outputs": [],
   "source": [
    "pred2.shape"
   ]
  },
  {
   "cell_type": "code",
   "execution_count": null,
   "metadata": {
    "collapsed": false
   },
   "outputs": [],
   "source": [
    "pred_final=pd.concat([pred,pred2],axis=0)"
   ]
  },
  {
   "cell_type": "code",
   "execution_count": null,
   "metadata": {
    "collapsed": false
   },
   "outputs": [],
   "source": [
    "    dataset = pd.DataFrame({\n",
    "                        'Class_6':pred[:,0],\n",
    "                        'Class_15':pred[:,1],\n",
    "                        'Class_16':pred[:,2],\n",
    "                        'Class_42':pred[:,3],\n",
    "                        'Class_52':pred[:,4],\n",
    "                        'Class_53':pred[:,5],\n",
    "                        'Class_62':pred[:,6],\n",
    "                        'Class_64':pred[:,7],\n",
    "                        'Class_65':pred[:,8],\n",
    "                        'Class_67':pred[:,9],\n",
    "                        'Class_88':pred[:,10],\n",
    "                        'Class_90':pred[:,11],\n",
    "                        'Class_92':pred[:,12],\n",
    "                        'Class_95':pred[:,13]                              \n",
    "                       })\n",
    "   "
   ]
  },
  {
   "cell_type": "code",
   "execution_count": null,
   "metadata": {
    "collapsed": true
   },
   "outputs": [],
   "source": [
    "    dataset2 = pd.DataFrame({\n",
    "                        'Class_6':pred2[:,0],\n",
    "                        'Class_15':pred2[:,1],\n",
    "                        'Class_16':pred2[:,2],\n",
    "                        'Class_42':pred2[:,3],\n",
    "                        'Class_52':pred2[:,4],\n",
    "                        'Class_53':pred2[:,5],\n",
    "                        'Class_62':pred2[:,6],\n",
    "                        'Class_64':pred2[:,7],\n",
    "                        'Class_65':pred2[:,8],\n",
    "                        'Class_67':pred2[:,9],\n",
    "                        'Class_88':pred2[:,10],\n",
    "                        'Class_90':pred2[:,11],\n",
    "                        'Class_92':pred2[:,12],\n",
    "                        'Class_95':pred2[:,13]                              \n",
    "                       })\n"
   ]
  },
  {
   "cell_type": "code",
   "execution_count": null,
   "metadata": {
    "collapsed": false
   },
   "outputs": [],
   "source": [
    "output=pd.concat([dataset,dataset2],axis=0)\n",
    "output.index = np.arange(0, len(output))\n",
    "output['object_id']=test_meta['object_id']\n",
    "output['class_99']=0.05"
   ]
  },
  {
   "cell_type": "code",
   "execution_count": null,
   "metadata": {
    "collapsed": true
   },
   "outputs": [],
   "source": []
  },
  {
   "cell_type": "code",
   "execution_count": null,
   "metadata": {
    "collapsed": true
   },
   "outputs": [],
   "source": [
    "output.to_csv('/dcs/17/u1403100/Downloads/A2/task5_1_2.csv',index=False)"
   ]
  },
  {
   "cell_type": "code",
   "execution_count": null,
   "metadata": {
    "collapsed": false
   },
   "outputs": [],
   "source": []
  },
  {
   "cell_type": "code",
   "execution_count": null,
   "metadata": {
    "collapsed": false
   },
   "outputs": [],
   "source": [
    "output2=output.reset_index"
   ]
  },
  {
   "cell_type": "code",
   "execution_count": null,
   "metadata": {
    "collapsed": false
   },
   "outputs": [],
   "source": [
    "test_meta.shape"
   ]
  },
  {
   "cell_type": "code",
   "execution_count": null,
   "metadata": {
    "collapsed": false
   },
   "outputs": [],
   "source": [
    "mlp = MLPClassifier(max_iter=100,alpha= 0.01, activation='tanh',learning_rate='adaptive',hidden_layer_sizes=(30,))\n",
    "mlp.fit(train_x,train_y)\n",
    "print(mlp.classes_)"
   ]
  },
  {
   "cell_type": "code",
   "execution_count": null,
   "metadata": {
    "collapsed": true
   },
   "outputs": [],
   "source": [
    "pred=mlp.predict_proba(test)"
   ]
  },
  {
   "cell_type": "code",
   "execution_count": null,
   "metadata": {
    "collapsed": false
   },
   "outputs": [],
   "source": [
    "    dataset = pd.DataFrame({\n",
    "                        'Class_6':pred[:,0],\n",
    "                        'Class_15':pred[:,1],\n",
    "                        'Class_16':pred[:,2],\n",
    "                        'Class_42':pred[:,3],\n",
    "                        'Class_52':pred[:,4],\n",
    "                        'Class_53':pred[:,5],\n",
    "                        'Class_62':pred[:,6],\n",
    "                        'Class_64':pred[:,7],\n",
    "                        'Class_65':pred[:,8],\n",
    "                        'Class_67':pred[:,9],\n",
    "                        'Class_88':pred[:,10],\n",
    "                        'Class_90':pred[:,11],\n",
    "                        'Class_92':pred[:,12],\n",
    "                        'Class_95':pred[:,13]                              \n",
    "                       })\n",
    "output=dataset\n",
    "output['object_id']=test_meta['object_id']   "
   ]
  },
  {
   "cell_type": "code",
   "execution_count": null,
   "metadata": {
    "collapsed": false,
    "scrolled": true
   },
   "outputs": [],
   "source": [
    "output=pd.read_csv('/dcs/17/u1403100/Downloads/A2/task5_2.csv')\n",
    "output['class_99']=0.05\n",
    "output.to_csv('/dcs/17/u1403100/Downloads/A2/task5_2.csv',index=False)"
   ]
  },
  {
   "cell_type": "code",
   "execution_count": null,
   "metadata": {
    "collapsed": false
   },
   "outputs": [],
   "source": [
    "\n",
    "train_x=train3.drop(['target','object_id'],axis=1)\n",
    "train_y=train3['target'].fillna(99)\n",
    "\n",
    "\n",
    "rfc=RandomForestClassifier(n_estimators=90, min_samples_leaf=10,n_jobs=1)\n",
    "rfc.fit(train_x,train_y)\n",
    "print(rfc.classes_)\n"
   ]
  },
  {
   "cell_type": "code",
   "execution_count": null,
   "metadata": {
    "collapsed": false
   },
   "outputs": [],
   "source": [
    "pred=rfc.predict_proba(test3.loc[:1800000,:])\n",
    "pred2=rfc.predict_proba(test3.loc[1800001:,:])"
   ]
  },
  {
   "cell_type": "code",
   "execution_count": null,
   "metadata": {
    "collapsed": true
   },
   "outputs": [],
   "source": [
    "    dataset = pd.DataFrame({\n",
    "                        'Class_6':pred[:,0],\n",
    "                        'Class_15':pred[:,1],\n",
    "                        'Class_16':pred[:,2],\n",
    "                        'Class_42':pred[:,3],\n",
    "                        'Class_52':pred[:,4],\n",
    "                        'Class_53':pred[:,5],\n",
    "                        'Class_62':pred[:,6],\n",
    "                        'Class_64':pred[:,7],\n",
    "                        'Class_65':pred[:,8],\n",
    "                        'Class_67':pred[:,9],\n",
    "                        'Class_88':pred[:,10],\n",
    "                        'Class_90':pred[:,11],\n",
    "                        'Class_92':pred[:,12],\n",
    "                        'Class_95':pred[:,13]                              \n",
    "                       })\n",
    "   "
   ]
  },
  {
   "cell_type": "code",
   "execution_count": null,
   "metadata": {
    "collapsed": true
   },
   "outputs": [],
   "source": [
    "    dataset2 = pd.DataFrame({\n",
    "                        'Class_6':pred2[:,0],\n",
    "                        'Class_15':pred2[:,1],\n",
    "                        'Class_16':pred2[:,2],\n",
    "                        'Class_42':pred2[:,3],\n",
    "                        'Class_52':pred2[:,4],\n",
    "                        'Class_53':pred2[:,5],\n",
    "                        'Class_62':pred2[:,6],\n",
    "                        'Class_64':pred2[:,7],\n",
    "                        'Class_65':pred2[:,8],\n",
    "                        'Class_67':pred2[:,9],\n",
    "                        'Class_88':pred2[:,10],\n",
    "                        'Class_90':pred2[:,11],\n",
    "                        'Class_92':pred2[:,12],\n",
    "                        'Class_95':pred2[:,13]                              \n",
    "                       })\n"
   ]
  },
  {
   "cell_type": "code",
   "execution_count": null,
   "metadata": {
    "collapsed": false
   },
   "outputs": [],
   "source": [
    "output=pd.concat([dataset,dataset2],axis=0)\n",
    "output.index = np.arange(0, len(output))\n",
    "output['object_id']=test_meta['object_id']\n",
    "output['class_99']=0.06"
   ]
  },
  {
   "cell_type": "code",
   "execution_count": null,
   "metadata": {
    "collapsed": false
   },
   "outputs": [],
   "source": [
    "output.to_csv('/dcs/17/u1403100/Downloads/A2/task5_3.csv',index=False)"
   ]
  }
 ],
 "metadata": {
  "kernelspec": {
   "display_name": "Python 2",
   "language": "python",
   "name": "python2"
  },
  "language_info": {
   "codemirror_mode": {
    "name": "ipython",
    "version": 2
   },
   "file_extension": ".py",
   "mimetype": "text/x-python",
   "name": "python",
   "nbconvert_exporter": "python",
   "pygments_lexer": "ipython2",
   "version": "2.7.5"
  }
 },
 "nbformat": 4,
 "nbformat_minor": 0
}
