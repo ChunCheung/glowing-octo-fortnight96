{
 "cells": [
  {
   "cell_type": "code",
   "execution_count": 75,
   "metadata": {
    "collapsed": false
   },
   "outputs": [],
   "source": [
    "%matplotlib inline\n",
    "import pandas as pd\n",
    "import pylab\n",
    "import numpy as np\n",
    "import matplotlib as mpl\n",
    "import matplotlib.pyplot as plt\n",
    "import seaborn as sns\n",
    "import scipy as sci\n",
    "from fastdtw import fastdtw\n",
    "from scipy.spatial.distance import euclidean\n",
    "from sklearn.model_selection import KFold\n",
    "import random\n",
    "from scipy.cluster.hierarchy import dendrogram, linkage\n",
    "import scipy.spatial.distance as ssd\n",
    "from sklearn.ensemble import RandomForestClassifier\n",
    "import sklearn\n",
    "import gatspy\n",
    "from gatspy import datasets, periodic\n",
    "import statistics\n",
    "from sklearn.model_selection import GridSearchCV\n",
    "from sklearn.metrics.scorer import make_scorer\n",
    "from time import time\n",
    "from sklearn.neural_network import MLPClassifier"
   ]
  },
  {
   "cell_type": "code",
   "execution_count": 84,
   "metadata": {
    "collapsed": false
   },
   "outputs": [],
   "source": [
    "meta = pd.read_csv('C:/Users/Max/Downloads/data/train_final.csv')\n",
    "meta_x=meta.drop(['target','object_id'],axis=1)\n",
    "meta_y=meta['target']\n",
    "\n",
    "meta_x2=meta_x.copy(deep=True)\n",
    "meta_x2.drop(list(meta_x.filter(regex = '0')), axis = 1, inplace = True)\n",
    "meta_x2.drop(list(meta_x.filter(regex = '2')), axis = 1, inplace = True)\n",
    "\n",
    "\n",
    "drop_columns=['1_band_Min','4_band_Min','2_band_Median','4_band_Median'\n",
    "             ,'2_band_Low_Count','4_band_Low_Count','ra','decl','distmod']\n",
    "meta_x3=meta_x.drop(drop_columns,axis=1)\n",
    "meta_x3.drop(list(meta_x.filter(regex = 'Max')), axis = 1, inplace = True)"
   ]
  },
  {
   "cell_type": "code",
   "execution_count": 68,
   "metadata": {
    "collapsed": false
   },
   "outputs": [],
   "source": [
    "def ll(y_true,y_pred):\n",
    "    return sklearn.metrics.log_loss(y_true, y_pred,labels=[6, 15, 16, 42, 52, 53, 62, 64, 65, 67, 88, 90, 92, 95])\n",
    "my_scorer = make_scorer(ll, greater_is_better=False,needs_proba=True)"
   ]
  },
  {
   "cell_type": "code",
   "execution_count": 69,
   "metadata": {
    "collapsed": false
   },
   "outputs": [
    {
     "name": "stdout",
     "output_type": "stream",
     "text": [
      "start\n",
      "Best parameters found:\n",
      " {'n_estimators': 90, 'min_samples_leaf': 10}\n",
      "Best Score:\n",
      " -0.7706549811354625\n",
      "583.2778103351593\n"
     ]
    }
   ],
   "source": [
    "t0=time()\n",
    "print('start')\n",
    "rfc = RandomForestClassifier()\n",
    "parameter_space = {\n",
    "    'n_estimators': [40,60,70,90,110],\n",
    "    'min_samples_leaf': [5,10,20,30,50,70]\n",
    "   \n",
    "}\n",
    "\n",
    "\n",
    "\n",
    "\n",
    "clf = GridSearchCV(rfc, parameter_space, n_jobs=1, cv=3,scoring='neg_log_loss')\n",
    "clf.fit(meta_x,meta_y)\n",
    "\n",
    "print('Best parameters found:\\n', clf.best_params_)\n",
    "print('Best Score:\\n', clf.best_score_)\n",
    "t1=time()\n",
    "print(t1-t0)"
   ]
  },
  {
   "cell_type": "code",
   "execution_count": 70,
   "metadata": {
    "collapsed": false
   },
   "outputs": [
    {
     "name": "stdout",
     "output_type": "stream",
     "text": [
      "start\n",
      "Best parameters found:\n",
      " {'n_estimators': 110, 'min_samples_leaf': 5}\n",
      "Best Score:\n",
      " -0.887673257455757\n",
      "242.8723919391632\n"
     ]
    }
   ],
   "source": [
    "t0=time()\n",
    "print('start')\n",
    "rfc = RandomForestClassifier()\n",
    "parameter_space = {\n",
    "    'n_estimators': [40,60,70,90,110],\n",
    "    'min_samples_leaf': [5,10,20,30,50,70]\n",
    "   \n",
    "}\n",
    "\n",
    "\n",
    "\n",
    "\n",
    "clf = GridSearchCV(rfc, parameter_space, n_jobs=1, cv=2,\n",
    "                   scoring='neg_log_loss')\n",
    "clf.fit(meta_x2, meta_y)\n",
    "\n",
    "print('Best parameters found:\\n', clf.best_params_)\n",
    "print('Best Score:\\n', clf.best_score_)\n",
    "t1=time()\n",
    "print(t1-t0)"
   ]
  },
  {
   "cell_type": "code",
   "execution_count": 71,
   "metadata": {
    "collapsed": false
   },
   "outputs": [
    {
     "name": "stdout",
     "output_type": "stream",
     "text": [
      "start\n",
      "Best parameters found:\n",
      " {'n_estimators': 110, 'min_samples_leaf': 5}\n",
      "Best Score:\n",
      " -0.8426102293976243\n",
      "228.96539163589478\n"
     ]
    }
   ],
   "source": [
    "\n",
    "t0=time()\n",
    "print('start')\n",
    "rfc = RandomForestClassifier()\n",
    "parameter_space = {\n",
    "    'n_estimators': [40,60,70,90,110],\n",
    "    'min_samples_leaf': [5,10,20,30,50,70]\n",
    "   \n",
    "}\n",
    "\n",
    "\n",
    "\n",
    "\n",
    "clf = GridSearchCV(rfc, parameter_space, n_jobs=1, cv=2,\n",
    "                   scoring='neg_log_loss')\n",
    "clf.fit(meta_x3, meta_y)\n",
    "\n",
    "print('Best parameters found:\\n', clf.best_params_)\n",
    "print('Best Score:\\n', clf.best_score_)\n",
    "t1=time()\n",
    "print(t1-t0)"
   ]
  },
  {
   "cell_type": "code",
   "execution_count": 104,
   "metadata": {
    "collapsed": false
   },
   "outputs": [
    {
     "name": "stdout",
     "output_type": "stream",
     "text": [
      "start\n"
     ]
    },
    {
     "name": "stderr",
     "output_type": "stream",
     "text": [
      "C:\\Users\\Max\\Anaconda3\\lib\\site-packages\\sklearn\\neural_network\\multilayer_perceptron.py:563: ConvergenceWarning: Stochastic Optimizer: Maximum iterations reached and the optimization hasn't converged yet.\n",
      "  % (), ConvergenceWarning)\n"
     ]
    },
    {
     "name": "stdout",
     "output_type": "stream",
     "text": [
      "Best parameters found:\n",
      " {'alpha': 0.01, 'activation': 'tanh', 'learning_rate': 'adaptive', 'hidden_layer_sizes': (30,)}\n",
      "Best Score:\n",
      " -1.0549720003675582\n",
      "493.92015171051025\n"
     ]
    }
   ],
   "source": [
    "t0=time()\n",
    "print('start')\n",
    "mlp = MLPClassifier(max_iter=100)\n",
    "\n",
    "parameter_space = {\n",
    "    'hidden_layer_sizes': [(30,),(50,),(50,50), (20,),(30,30) ],\n",
    "    'activation': ['tanh', 'relu'],\n",
    "    #'solver': ['sgd', 'adam'],\n",
    "    'alpha': [0.0003,0.0005,0.01,0.02],\n",
    "    'learning_rate': ['adaptive']\n",
    "}\n",
    "\n",
    "clf = GridSearchCV(mlp, parameter_space, n_jobs=1, cv=2,\n",
    "                   scoring='neg_log_loss')\n",
    "clf.fit(meta_x, meta_y)\n",
    "print('Best parameters found:\\n', clf.best_params_)\n",
    "print('Best Score:\\n', clf.best_score_)\n",
    "t1=time()\n",
    "print(t1-t0)"
   ]
  },
  {
   "cell_type": "code",
   "execution_count": 102,
   "metadata": {
    "collapsed": false
   },
   "outputs": [
    {
     "name": "stdout",
     "output_type": "stream",
     "text": [
      "start\n",
      "Best parameters found:\n",
      " {'alpha': 0.01, 'activation': 'tanh', 'learning_rate': 'adaptive', 'hidden_layer_sizes': (30,)}\n",
      "Best Score:\n",
      " -1.1240029530493783\n",
      "407.8072757720947\n"
     ]
    }
   ],
   "source": [
    "t0=time()\n",
    "print('start')\n",
    "mlp = MLPClassifier(max_iter=100)\n",
    "\n",
    "parameter_space = {\n",
    "    'hidden_layer_sizes': [(30,),(50,),(50,50), (20,),(30,30) ],\n",
    "    'activation': ['tanh', 'relu'],\n",
    "    #'solver': ['sgd', 'adam'],\n",
    "    'alpha': [0.0003,0.0005,0.01,0.02],\n",
    "    'learning_rate': ['adaptive']\n",
    "}\n",
    "\n",
    "clf = GridSearchCV(mlp, parameter_space, n_jobs=1, cv=2,\n",
    "                   scoring='neg_log_loss')\n",
    "clf.fit(meta_x2, meta_y)\n",
    "print('Best parameters found:\\n', clf.best_params_)\n",
    "print('Best Score:\\n', clf.best_score_)\n",
    "t1=time()\n",
    "print(t1-t0)"
   ]
  },
  {
   "cell_type": "code",
   "execution_count": 103,
   "metadata": {
    "collapsed": false
   },
   "outputs": [
    {
     "name": "stdout",
     "output_type": "stream",
     "text": [
      "start\n"
     ]
    },
    {
     "name": "stderr",
     "output_type": "stream",
     "text": [
      "C:\\Users\\Max\\Anaconda3\\lib\\site-packages\\sklearn\\neural_network\\multilayer_perceptron.py:563: ConvergenceWarning: Stochastic Optimizer: Maximum iterations reached and the optimization hasn't converged yet.\n",
      "  % (), ConvergenceWarning)\n",
      "C:\\Users\\Max\\Anaconda3\\lib\\site-packages\\sklearn\\neural_network\\multilayer_perceptron.py:563: ConvergenceWarning: Stochastic Optimizer: Maximum iterations reached and the optimization hasn't converged yet.\n",
      "  % (), ConvergenceWarning)\n",
      "C:\\Users\\Max\\Anaconda3\\lib\\site-packages\\sklearn\\neural_network\\multilayer_perceptron.py:563: ConvergenceWarning: Stochastic Optimizer: Maximum iterations reached and the optimization hasn't converged yet.\n",
      "  % (), ConvergenceWarning)\n",
      "C:\\Users\\Max\\Anaconda3\\lib\\site-packages\\sklearn\\neural_network\\multilayer_perceptron.py:563: ConvergenceWarning: Stochastic Optimizer: Maximum iterations reached and the optimization hasn't converged yet.\n",
      "  % (), ConvergenceWarning)\n",
      "C:\\Users\\Max\\Anaconda3\\lib\\site-packages\\sklearn\\neural_network\\multilayer_perceptron.py:563: ConvergenceWarning: Stochastic Optimizer: Maximum iterations reached and the optimization hasn't converged yet.\n",
      "  % (), ConvergenceWarning)\n",
      "C:\\Users\\Max\\Anaconda3\\lib\\site-packages\\sklearn\\neural_network\\multilayer_perceptron.py:563: ConvergenceWarning: Stochastic Optimizer: Maximum iterations reached and the optimization hasn't converged yet.\n",
      "  % (), ConvergenceWarning)\n",
      "C:\\Users\\Max\\Anaconda3\\lib\\site-packages\\sklearn\\neural_network\\multilayer_perceptron.py:563: ConvergenceWarning: Stochastic Optimizer: Maximum iterations reached and the optimization hasn't converged yet.\n",
      "  % (), ConvergenceWarning)\n",
      "C:\\Users\\Max\\Anaconda3\\lib\\site-packages\\sklearn\\neural_network\\multilayer_perceptron.py:563: ConvergenceWarning: Stochastic Optimizer: Maximum iterations reached and the optimization hasn't converged yet.\n",
      "  % (), ConvergenceWarning)\n",
      "C:\\Users\\Max\\Anaconda3\\lib\\site-packages\\sklearn\\neural_network\\multilayer_perceptron.py:563: ConvergenceWarning: Stochastic Optimizer: Maximum iterations reached and the optimization hasn't converged yet.\n",
      "  % (), ConvergenceWarning)\n",
      "C:\\Users\\Max\\Anaconda3\\lib\\site-packages\\sklearn\\neural_network\\multilayer_perceptron.py:563: ConvergenceWarning: Stochastic Optimizer: Maximum iterations reached and the optimization hasn't converged yet.\n",
      "  % (), ConvergenceWarning)\n",
      "C:\\Users\\Max\\Anaconda3\\lib\\site-packages\\sklearn\\neural_network\\multilayer_perceptron.py:563: ConvergenceWarning: Stochastic Optimizer: Maximum iterations reached and the optimization hasn't converged yet.\n",
      "  % (), ConvergenceWarning)\n"
     ]
    },
    {
     "name": "stdout",
     "output_type": "stream",
     "text": [
      "Best parameters found:\n",
      " {'alpha': 0.01, 'activation': 'tanh', 'learning_rate': 'adaptive', 'hidden_layer_sizes': (50,)}\n",
      "Best Score:\n",
      " -1.1115121346509167\n",
      "589.4925818443298\n"
     ]
    }
   ],
   "source": [
    "t0=time()\n",
    "print('start')\n",
    "mlp = MLPClassifier(max_iter=100)\n",
    "\n",
    "parameter_space = {\n",
    "    'hidden_layer_sizes': [(30,),(50,),(50,50), (20,),(30,30) ],\n",
    "    'activation': ['tanh', 'relu'],\n",
    "    #'solver': ['sgd', 'adam'],\n",
    "    'alpha': [0.0003,0.0005,0.01,0.02],\n",
    "    'learning_rate': ['adaptive']\n",
    "}\n",
    "\n",
    "clf = GridSearchCV(mlp, parameter_space, n_jobs=1, cv=2,\n",
    "                   scoring='neg_log_loss')\n",
    "clf.fit(meta_x3, meta_y)\n",
    "print('Best parameters found:\\n', clf.best_params_)\n",
    "print('Best Score:\\n', clf.best_score_)\n",
    "t1=time()\n",
    "print(t1-t0)"
   ]
  },
  {
   "cell_type": "code",
   "execution_count": null,
   "metadata": {
    "collapsed": true
   },
   "outputs": [],
   "source": [
    "\"\"\"start1\n",
    "Best parameters found:\n",
    " {'n_estimators': 90, 'min_samples_leaf': 10}\n",
    "Best Score:\n",
    " -0.7706549811354625\n",
    "583.2778103351593\n",
    "\n",
    "start2\n",
    "Best parameters found:\n",
    " {'n_estimators': 110, 'min_samples_leaf': 5}\n",
    "Best Score:\n",
    " -0.8426102293976243\n",
    "228.96539163589478\n",
    "\n",
    "1\n",
    "Best parameters found:\n",
    " {'alpha': 0.01, 'activation': 'tanh', 'learning_rate': 'adaptive', 'hidden_layer_sizes': (30,)}\n",
    "Best Score:\n",
    " -1.0549720003675582\n",
    "493.92015171051025\"\"\""
   ]
  }
 ],
 "metadata": {
  "anaconda-cloud": {},
  "kernelspec": {
   "display_name": "Python [conda env:Anaconda3]",
   "language": "python",
   "name": "conda-env-Anaconda3-py"
  },
  "language_info": {
   "codemirror_mode": {
    "name": "ipython",
    "version": 3
   },
   "file_extension": ".py",
   "mimetype": "text/x-python",
   "name": "python",
   "nbconvert_exporter": "python",
   "pygments_lexer": "ipython3",
   "version": "3.5.6"
  }
 },
 "nbformat": 4,
 "nbformat_minor": 1
}
