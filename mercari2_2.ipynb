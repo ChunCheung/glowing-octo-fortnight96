{
 "cells": [
  {
   "cell_type": "code",
   "execution_count": 9,
   "metadata": {
    "collapsed": false
   },
   "outputs": [],
   "source": [
    "%matplotlib inline\n",
    "import pandas as pd\n",
    "import numpy as np"
   ]
  },
  {
   "cell_type": "code",
   "execution_count": 2,
   "metadata": {
    "collapsed": false
   },
   "outputs": [],
   "source": [
    "df = pd.read_csv('/dcs/17/u1403100/Downloads/train.tsv',sep='\\t')\n",
    "new = df[\"category_name\"].str.split(\"/\", n = 2, expand = True) \n",
    "df['category']=new[0]\n",
    "df['category2']=new[1]\n",
    "df['category3']=new[2]\n",
    "df=df[df.category=='Women']"
   ]
  },
  {
   "cell_type": "code",
   "execution_count": 3,
   "metadata": {
    "collapsed": true
   },
   "outputs": [],
   "source": [
    "#df = pd.read_csv('C:/Users/Max/Downloads/data/train_women.csv')"
   ]
  },
  {
   "cell_type": "code",
   "execution_count": 4,
   "metadata": {
    "collapsed": false
   },
   "outputs": [],
   "source": [
    "df.drop('train_id',axis=1,inplace=True)\n",
    "df=df.fillna('Unknown')\n",
    "df = df.astype(str).apply(lambda x: x.str.lower())\n",
    "#df[['category2','category3']]= df[['category2','category3']].astype('category')\n",
    "df[['item_description','name']]= df[['item_description','name']].astype('str')"
   ]
  },
  {
   "cell_type": "code",
   "execution_count": 5,
   "metadata": {
    "collapsed": false
   },
   "outputs": [],
   "source": [
    "df['item_description']=df['item_description'].str.findall('\\w{4,}').str.join(' ')\n",
    "df['name']=df['name'].str.findall('\\w{4,}').str.join(' ')"
   ]
  },
  {
   "cell_type": "code",
   "execution_count": 6,
   "metadata": {
    "collapsed": false
   },
   "outputs": [
    {
     "data": {
      "text/plain": [
       "\"df.groupby('category2').agg(len).sort_values(['train_id'],ascending=False)\""
      ]
     },
     "execution_count": 6,
     "metadata": {},
     "output_type": "execute_result"
    }
   ],
   "source": [
    "\"df.groupby('category2').agg(len).sort_values(['train_id'],ascending=False)\""
   ]
  },
  {
   "cell_type": "code",
   "execution_count": 10,
   "metadata": {
    "collapsed": false
   },
   "outputs": [],
   "source": [
    "word_list=pd.Series(' '.join(df.item_description).lower().split()).value_counts()[:60]\n",
    "for i in word_list.index:\n",
    "    df['description '+i]=np.where(df['item_description'].str.contains(i, case=False, na=False), '1', '0')\n",
    "    \n",
    "word_list=pd.Series(' '.join(df.name).lower().split()).value_counts()[:60]\n",
    "for i in word_list.index:\n",
    "    df['name '+i]=np.where(df['name'].str.contains(i, case=False, na=False), '1', '0')"
   ]
  },
  {
   "cell_type": "code",
   "execution_count": 11,
   "metadata": {
    "collapsed": true
   },
   "outputs": [],
   "source": [
    "df.to_csv('/dcs/17/u1403100/Downloads/train_processed.csv',index=False)"
   ]
  }
 ],
 "metadata": {
  "anaconda-cloud": {},
  "kernelspec": {
   "display_name": "Python 2",
   "language": "python",
   "name": "python2"
  },
  "language_info": {
   "codemirror_mode": {
    "name": "ipython",
    "version": 2
   },
   "file_extension": ".py",
   "mimetype": "text/x-python",
   "name": "python",
   "nbconvert_exporter": "python",
   "pygments_lexer": "ipython2",
   "version": "2.7.5"
  }
 },
 "nbformat": 4,
 "nbformat_minor": 1
}
