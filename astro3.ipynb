{
 "cells": [
  {
   "cell_type": "code",
   "execution_count": 2,
   "metadata": {
    "collapsed": false
   },
   "outputs": [],
   "source": [
    "%matplotlib inline\n",
    "import pandas as pd\n",
    "import pylab\n",
    "import numpy as np\n",
    "import matplotlib as mpl\n",
    "import matplotlib.pyplot as plt\n",
    "import seaborn as sns\n",
    "import scipy as sci\n",
    "import fastdtw\n",
    "from scipy.spatial.distance import euclidean\n",
    "\n",
    "import random\n",
    "from scipy.cluster.hierarchy import dendrogram, linkage\n",
    "import scipy.spatial.distance as ssd\n",
    "from sklearn.ensemble import RandomForestClassifier\n",
    "import sklearn\n",
    "from sklearn.neural_network import MLPClassifier\n"
   ]
  },
  {
   "cell_type": "code",
   "execution_count": 28,
   "metadata": {
    "collapsed": false,
    "scrolled": true
   },
   "outputs": [],
   "source": [
    "meta=pd.read_csv(\"/dcs/17/u1403100/Downloads/A2/training_set_metadata.csv\")\n",
    "obs=pd.read_csv(\"/dcs/17/u1403100/Downloads/A2/training_set.csv\")\n",
    "test_meta=pd.read_csv(\"/modules/cs342/Assignment2/test_set_metadata.csv\")\n",
    "\n",
    "\n",
    "\n",
    "\n",
    "#test_obs=pd.read_csv(\"/modules/cs342/Assignment2/test_set.csv\")\n"
   ]
  },
  {
   "cell_type": "code",
   "execution_count": 38,
   "metadata": {
    "collapsed": false
   },
   "outputs": [],
   "source": [
    "meta['last_row']=0\n",
    "previous_id=0\n",
    "start=0\n",
    "i=0\n",
    "read_rows=0\n",
    "for chunk in pd.read_csv(\"/dcs/17/u1403100/Downloads/A2/training_set.csv\", chunksize=10000):\n",
    "    for index, row in chunk.iterrows():\n",
    "        if row['object_id']!=previous_id and start!=0:\n",
    "            meta.loc[i,'last_row']=index-1+read_rows\n",
    "            i+=1\n",
    "        previous_id=row['object_id']\n",
    "        start=1\n",
    "    read_rows+=10000"
   ]
  },
  {
   "cell_type": "code",
   "execution_count": 42,
   "metadata": {
    "collapsed": true
   },
   "outputs": [],
   "source": [
    "test_meta['last_row']=0\n",
    "previous_id=0\n",
    "start=0\n",
    "i=0\n",
    "read_rows=0\n",
    "for chunk in pd.read_csv(\"/modules/cs342/Assignment2/test_set.csv\", chunksize=100000):\n",
    "    for index, row in chunk.iterrows():\n",
    "        if row['object_id']!=previous_id and start!=0:\n",
    "            test_meta.loc[i,'last_row']=index-1+read_rows\n",
    "            i+=1\n",
    "        previous_id=row['object_id']\n",
    "        start=1\n",
    "    read_rows+=100000\n",
    "    \n",
    "    "
   ]
  },
  {
   "cell_type": "code",
   "execution_count": 43,
   "metadata": {
    "collapsed": true
   },
   "outputs": [],
   "source": [
    "test_meta.to_csv(\"/dcs/17/u1403100/Downloads/A2/meta2.csv\")"
   ]
  },
  {
   "cell_type": "code",
   "execution_count": 5,
   "metadata": {
    "collapsed": false
   },
   "outputs": [],
   "source": [
    "def timeplot(band,id):\n",
    "    fig = plt.figure()\n",
    "    ax = plt.axes()\n",
    "    ax.plot(obs.mjd[(obs.passband==band)&(obs.object_id==id)],obs.flux[(obs.passband==band)&(obs.object_id==id)])"
   ]
  },
  {
   "cell_type": "code",
   "execution_count": null,
   "metadata": {
    "collapsed": false
   },
   "outputs": [],
   "source": [
    "       \"\"\"     x=obs.mjd[(obs.passband==2)&(obs.object_id==obs.object_id.unique()[5])]\n",
    "            y=obs.mjd[(obs.passband==2)&(obs.object_id==obs.object_id.unique()[1])]\n",
    "            distance, path = fastdtw(x, y, dist=euclidean)\n",
    "            dist_m[i][j]=distance\n",
    "            print(distance)\n",
    "dist_m[5][1]\"\"\""
   ]
  },
  {
   "cell_type": "code",
   "execution_count": null,
   "metadata": {
    "collapsed": false
   },
   "outputs": [],
   "source": [
    "\"\"\"def dtw_m(num):\n",
    "    dist_m=np.zeros((num,num))\n",
    "    for i in range(num):\n",
    "        x=obs.flux[(obs.passband==2)&(obs.object_id==obs.object_id.unique()[i])]\n",
    "        for j in range(num):\n",
    "            if i!=j:\n",
    "                y=obs.flux[(obs.passband==2)&(obs.object_id==obs.object_id.unique()[j])]\n",
    "                distance, path = fastdtw(x, y, dist=euclidean)\n",
    "                dist_m[i][j]=distance\n",
    "    return dist_m\n",
    "            \"\"\"\n"
   ]
  },
  {
   "cell_type": "code",
   "execution_count": null,
   "metadata": {
    "collapsed": false
   },
   "outputs": [],
   "source": [
    "\"\"\"from time import time\n",
    "t0 = time()\n",
    "dist_m=dtw_m(20)    \n",
    "distArray = ssd.squareform(dist_m)\n",
    "\n",
    "z=linkage(distArray)\n",
    "labels = sci.cluster.hierarchy.fcluster(z, 3, criterion='maxclust')\n",
    "\n",
    "t1 = time()\n",
    "print('function vers1 takes %f' %(t1-t0))\"\"\""
   ]
  },
  {
   "cell_type": "code",
   "execution_count": 23,
   "metadata": {
    "collapsed": false
   },
   "outputs": [
    {
     "data": {
      "text/plain": [
       "RandomForestClassifier(bootstrap=True, class_weight=None, criterion='gini',\n",
       "            max_depth=None, max_features='auto', max_leaf_nodes=None,\n",
       "            min_impurity_split=1e-07, min_samples_leaf=22,\n",
       "            min_samples_split=2, min_weight_fraction_leaf=0.0,\n",
       "            n_estimators=80, n_jobs=1, oob_score=False, random_state=None,\n",
       "            verbose=0, warm_start=False)"
      ]
     },
     "execution_count": 23,
     "metadata": {},
     "output_type": "execute_result"
    }
   ],
   "source": [
    "\n",
    "obs_test=obs\n",
    "meta_test=meta\n",
    "full_test=obs_test.merge(meta_test,on=\"object_id\")\n",
    "full_x=full_test.drop([\"target\",\"distmod\"],axis=1)\n",
    "full_y=full_test[\"target\"]\n",
    "\n",
    "\n",
    "\n",
    "clf=RandomForestClassifier(n_estimators=80 ,min_samples_leaf=22)\n",
    "\n",
    "clf.fit(full_x,full_y)\n",
    "\n",
    "\n",
    "\n"
   ]
  },
  {
   "cell_type": "code",
   "execution_count": 13,
   "metadata": {
    "collapsed": false
   },
   "outputs": [
    {
     "name": "stdout",
     "output_type": "stream",
     "text": [
      "function vers1 takes 0.000022\n"
     ]
    }
   ],
   "source": [
    "\n"
   ]
  },
  {
   "cell_type": "code",
   "execution_count": 19,
   "metadata": {
    "collapsed": false
   },
   "outputs": [
    {
     "data": {
      "text/plain": [
       "MLPClassifier(activation='tanh', alpha=5e-05, batch_size='auto', beta_1=0.9,\n",
       "       beta_2=0.999, early_stopping=False, epsilon=1e-08,\n",
       "       hidden_layer_sizes=(40, 60, 40), learning_rate='constant',\n",
       "       learning_rate_init=0.001, max_iter=70, momentum=0.9,\n",
       "       nesterovs_momentum=True, power_t=0.5, random_state=None,\n",
       "       shuffle=True, solver='adam', tol=0.0001, validation_fraction=0.1,\n",
       "       verbose=False, warm_start=False)"
      ]
     },
     "execution_count": 19,
     "metadata": {},
     "output_type": "execute_result"
    }
   ],
   "source": [
    "\n",
    "obs_test=obs\n",
    "meta_test=meta\n",
    "full_test=obs_test.merge(meta_test,on=\"object_id\")\n",
    "full_x=full_test.drop([\"target\",\"distmod\"],axis=1)\n",
    "full_y=full_test[\"target\"]\n",
    "\n",
    "\n",
    "\n",
    "\n",
    "\n",
    "mlp = MLPClassifier(max_iter=70,hidden_layer_sizes=(40,60,40),activation='tanh',solver='adam',alpha=0.00005,learning_rate='constant')\n",
    "\n",
    "\n",
    "\n",
    "mlp.fit(full_x,full_y)\n"
   ]
  },
  {
   "cell_type": "code",
   "execution_count": 24,
   "metadata": {
    "collapsed": false
   },
   "outputs": [
    {
     "name": "stdout",
     "output_type": "stream",
     "text": [
      "function vers1 takes 10723.289245\n"
     ]
    }
   ],
   "source": [
    "from time import time\n",
    "t0 = time()\n",
    "a=0\n",
    "for chunk in pd.read_csv(\"/modules/cs342/Assignment2/test_set.csv\", chunksize=100000):\n",
    "    # process the chunk\n",
    "    full_test=chunk.merge(test_meta,on=\"object_id\",how='inner')\n",
    "    full_test2=full_test.drop([\"distmod\"],axis=1)\n",
    "    full_test2.hostgal_specz.fillna(full_test2.hostgal_photoz, inplace=True)\n",
    "    #print(pd.isnull(full_test2).sum() > 0)\n",
    "    pred=clf.predict_proba(full_test2)\n",
    "    \n",
    "    \n",
    "\n",
    "\n",
    "\n",
    "\n",
    "    dataset = pd.DataFrame({'object_id':full_test2.object_id,\n",
    "                        \n",
    "                        'Class_15':pred[:,1],\n",
    "                        'Class_16':pred[:,2],\n",
    "                        'Class_42':pred[:,3],\n",
    "                        'Class_52':pred[:,4],\n",
    "                        'Class_53':pred[:,5],\n",
    "                        'Class_62':pred[:,6],\n",
    "                        'Class_64':pred[:,7],\n",
    "                        'Class_65':pred[:,8],\n",
    "                        'Class_67':pred[:,9],\n",
    "                        'Class_88':pred[:,10],\n",
    "                        'Class_90':pred[:,11],\n",
    "                        'Class_92':pred[:,12],\n",
    "                        'Class_95':pred[:,13]                              \n",
    "                       })\n",
    "    dataset['class_99']=0\n",
    "    dataset.insert(loc=0, column='Class_6', value=pred[:,0])\n",
    "    output=dataset.groupby('object_id').mean()\n",
    "\n",
    "    if a==0:\n",
    "        output.to_csv(\"/dcs/17/u1403100/Downloads/A2/output.csv\")\n",
    "    else:\n",
    "        output.to_csv(\"/dcs/17/u1403100/Downloads/A2/output.csv\", mode='a',header=False)\n",
    "    a=1\n",
    "t1 = time()\n",
    "print('function vers1 takes %f' %(t1-t0))"
   ]
  },
  {
   "cell_type": "code",
   "execution_count": 20,
   "metadata": {
    "collapsed": false
   },
   "outputs": [],
   "source": [
    "a=0\n",
    "for chunk in pd.read_csv(\"/modules/cs342/Assignment2/test_set.csv\",  chunksize=100000):\n",
    "    # process the chunk\n",
    "    full_test=chunk.merge(test_meta,on=\"object_id\",how='inner')\n",
    "    full_test2=full_test.drop([\"distmod\"],axis=1)\n",
    "    full_test2.hostgal_specz.fillna(full_test2.hostgal_photoz, inplace=True)\n",
    "    pred=mlp.predict_proba(full_test2)\n",
    "    \n",
    "    \n",
    "\n",
    "\n",
    "\n",
    "\n",
    "    dataset = pd.DataFrame({'object_id':full_test2.object_id,\n",
    "                        \n",
    "                        'Class_15':pred[:,1],\n",
    "                        'Class_16':pred[:,2],\n",
    "                        'Class_42':pred[:,3],\n",
    "                        'Class_52':pred[:,4],\n",
    "                        'Class_53':pred[:,5],\n",
    "                        'Class_62':pred[:,6],\n",
    "                        'Class_64':pred[:,7],\n",
    "                        'Class_65':pred[:,8],\n",
    "                        'Class_67':pred[:,9],\n",
    "                        'Class_88':pred[:,10],\n",
    "                        'Class_90':pred[:,11],\n",
    "                        'Class_92':pred[:,12],\n",
    "                        'Class_95':pred[:,13]                       \n",
    "                       })\n",
    "    dataset['class_99']=0\n",
    "    dataset.insert(loc=0, column='Class_6', value=pred[:,0])\n",
    "    output=dataset.groupby('object_id').mean()\n",
    "\n",
    "    if a==0:\n",
    "        output.to_csv(\"/dcs/17/u1403100/Downloads/A2/output2.csv\")\n",
    "    else:\n",
    "        output.to_csv(\"/dcs/17/u1403100/Downloads/A2/output2.csv\", mode='a',header=False)\n",
    "    a=1"
   ]
  },
  {
   "cell_type": "code",
   "execution_count": 25,
   "metadata": {
    "collapsed": true
   },
   "outputs": [],
   "source": [
    "output=pd.read_csv(\"/dcs/17/u1403100/Downloads/A2/output.csv\")\n",
    "output2=output.groupby('object_id').mean()\n",
    "output2.to_csv(\"//var/tmp/kdecache-u1403100/Q21.csv\")"
   ]
  },
  {
   "cell_type": "code",
   "execution_count": 22,
   "metadata": {
    "collapsed": false
   },
   "outputs": [
    {
     "data": {
      "text/plain": [
       "(3492890, 15)"
      ]
     },
     "execution_count": 22,
     "metadata": {},
     "output_type": "execute_result"
    }
   ],
   "source": [
    "output2.shape"
   ]
  },
  {
   "cell_type": "code",
   "execution_count": 16,
   "metadata": {
    "collapsed": false
   },
   "outputs": [],
   "source": [
    "\"\"\"output=pd.read_csv(\"//var/tmp/kdecache-u1403100/output.csv\")\n",
    "output['class_53']=0\n",
    "output2=output.groupby('object_id').mean()\n",
    "output2.to_csv(\"/dcs/17/u1403100/Downloads/A2/Q21.csv\")\"\"\""
   ]
  },
  {
   "cell_type": "code",
   "execution_count": 6,
   "metadata": {
    "collapsed": false
   },
   "outputs": [
    {
     "data": {
      "text/plain": [
       "(3492890, 11)"
      ]
     },
     "execution_count": 6,
     "metadata": {},
     "output_type": "execute_result"
    }
   ],
   "source": []
  },
  {
   "cell_type": "code",
   "execution_count": null,
   "metadata": {
    "collapsed": false,
    "scrolled": true
   },
   "outputs": [],
   "source": [
    "\"\"\"from sklearn.model_selection import KFold\n",
    "df2 = pd.DataFrame(np.zeros((10,10)) )  \n",
    "t0 = time()\n",
    "test=meta.object_id.sample(n=150)\n",
    "obs_test=obs[obs.object_id.isin(list(test))]\n",
    "meta_test=meta[meta.object_id.isin(list(test))]\n",
    "full_test=obs_test.merge(meta_test,on=\"object_id\")\n",
    "full_x=full_test.drop([\"target\",\"distmod\"],axis=1)\n",
    "full_y=full_test[\"target\"]\n",
    "for i in range(1):\n",
    "    for k in range(10):\n",
    "        result=0\n",
    "        \n",
    "        \n",
    "        kf = KFold(n_splits=6)\n",
    "        for train_index, test_index in kf.split(full_x):\n",
    "           \n",
    "            x_train, x_test = full_x.iloc[train_index], full_x.iloc[test_index]\n",
    "            y_train, y_test = full_y.iloc[train_index], full_y.iloc[test_index]\n",
    "           \n",
    "\n",
    "            clf = RandomForestClassifier(n_estimators=60 ,min_samples_leaf=(k*5)+1)\n",
    "            \n",
    "            \n",
    "            clf.fit(x_train,y_train)\n",
    "            \n",
    "            #ans=clf.predict(x_test)\n",
    "            \n",
    "            result+=clf.score(x_test,y_test)\n",
    "            #print(sklearn.metrics.r2_score(y_test,ans))\n",
    "            #print(neigh.score(X_test,y_test),\"  \",end=\"\")\n",
    "        # print(\"pa\",i)\n",
    "        # print(k_val)\n",
    "        #print(np.average(result))\n",
    "        #print(result)\n",
    "        df2.ix[i,k]=result/(6)\n",
    "    \n",
    "    print(\"BREAK\")\n",
    "print(df2)\n",
    "\n",
    "t1 = time()\n",
    "print('function vers1 takes %f' %(t1-t0))\"\"\""
   ]
  },
  {
   "cell_type": "code",
   "execution_count": null,
   "metadata": {
    "collapsed": false
   },
   "outputs": [],
   "source": [
    "\"\"\"from sklearn.model_selection import KFold\n",
    "df2 = pd.DataFrame(np.zeros((10,10)) )  \n",
    "t0 = time()\n",
    "\n",
    "for i in range(1):\n",
    "    for k in range(10):\n",
    "        result=0\n",
    "        \n",
    "        \n",
    "        \n",
    "        for j in range(6):\n",
    "            test_index=meta.object_id.sample(n=300)\n",
    "            train_index=meta.object_id.sample(n=100)\n",
    "            \n",
    "            obs_test=obs[obs.object_id.isin(list(test_index))]\n",
    "            meta_test=meta[meta.object_id.isin(list(test_index))]\n",
    "            full_test=obs_test.merge(meta_test,on=\"object_id\")\n",
    "            full_x=full_test.drop([\"target\",\"distmod\"],axis=1)\n",
    "            full_y=full_test[\"target\"]\n",
    "            \n",
    "            obs_train=obs[obs.object_id.isin(list(train_index))]\n",
    "            meta_train=meta[meta.object_id.isin(list(train_index))]\n",
    "            full_train=obs_train.merge(meta_train,on=\"object_id\")\n",
    "            full_x_train=full_train.drop([\"target\",\"distmod\"],axis=1)\n",
    "            full_y_train=full_train[\"target\"]\n",
    "            clf = RandomForestClassifier(n_estimators=70 ,min_samples_leaf=(k*8)+1)\n",
    "            \n",
    "            \n",
    "            clf.fit(full_x,full_y)\n",
    "            \n",
    "            #ans=clf.predict(x_test)\n",
    "            \n",
    "            result+=clf.score(full_x_train,full_y_train)\n",
    "            #print(sklearn.metrics.r2_score(y_test,ans))\n",
    "            #print(neigh.score(X_test,y_test),\"  \",end=\"\")\n",
    "        # print(\"pa\",i)\n",
    "        # print(k_val)\n",
    "        #print(np.average(result))\n",
    "        #print(result)\n",
    "        df2.ix[i,k]=result/(6)\n",
    "    \n",
    "    print(\"BREAK\")\n",
    "print(df2)\n",
    "\n",
    "t1 = time()\n",
    "print('function vers1 takes %f' %(t1-t0))\"\"\""
   ]
  }
 ],
 "metadata": {
  "anaconda-cloud": {},
  "kernelspec": {
   "display_name": "Python 2",
   "language": "python",
   "name": "python2"
  },
  "language_info": {
   "codemirror_mode": {
    "name": "ipython",
    "version": 2
   },
   "file_extension": ".py",
   "mimetype": "text/x-python",
   "name": "python",
   "nbconvert_exporter": "python",
   "pygments_lexer": "ipython2",
   "version": "2.7.5"
  }
 },
 "nbformat": 4,
 "nbformat_minor": 1
}
