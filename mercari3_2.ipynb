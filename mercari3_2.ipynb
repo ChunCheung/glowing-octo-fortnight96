{
 "cells": [
  {
   "cell_type": "code",
   "execution_count": 1,
   "metadata": {
    "collapsed": false
   },
   "outputs": [
    {
     "name": "stderr",
     "output_type": "stream",
     "text": [
      "/local/java/python-pip-packages/lib64/python2.7/site-packages/sklearn/cross_validation.py:44: DeprecationWarning: This module was deprecated in version 0.18 in favor of the model_selection module into which all the refactored classes and functions are moved. Also note that the interface of the new CV iterators are different from that of this module. This module will be removed in 0.20.\n",
      "  \"This module will be removed in 0.20.\", DeprecationWarning)\n",
      "Using TensorFlow backend.\n"
     ]
    }
   ],
   "source": [
    "%matplotlib inline\n",
    "import pandas as pd\n",
    "\n",
    "import numpy as np\n",
    "\n",
    "import seaborn as sns\n",
    "import scipy as sci\n",
    "from sklearn.neural_network import MLPRegressor\n",
    "from sklearn.neighbors import KNeighborsClassifier\n",
    "from sklearn import cross_validation\n",
    "from sklearn.tree import DecisionTreeClassifier, export_graphviz\n",
    "from sklearn.model_selection import KFold\n",
    "from sklearn.linear_model import Ridge\n",
    "from sklearn import linear_model\n",
    "from sklearn.tree import DecisionTreeClassifier, export_graphviz\n",
    "from sklearn import tree\n",
    "from sklearn import preprocessing\n",
    "from sklearn.preprocessing import OneHotEncoder\n",
    "\n",
    "from numpy import array\n",
    "from numpy import argmax\n",
    "import keras as ker\n",
    "from sklearn.ensemble import RandomForestRegressor"
   ]
  },
  {
   "cell_type": "code",
   "execution_count": 2,
   "metadata": {
    "collapsed": true
   },
   "outputs": [],
   "source": [
    "df = pd.read_csv('/dcs/17/u1403100/Downloads/train_processed.csv')"
   ]
  },
  {
   "cell_type": "code",
   "execution_count": 9,
   "metadata": {
    "collapsed": false
   },
   "outputs": [
    {
     "data": {
      "text/plain": [
       "array([ 12.,  18.,  16., ...,  18.,  20.,  22.])"
      ]
     },
     "execution_count": 9,
     "metadata": {},
     "output_type": "execute_result"
    }
   ],
   "source": [
    "np.clip(y_test,0.01,10**6)"
   ]
  },
  {
   "cell_type": "code",
   "execution_count": 11,
   "metadata": {
    "collapsed": false
   },
   "outputs": [],
   "source": [
    "\n",
    "\n",
    "def rmsle(y, y_pred):\n",
    "    assert len(y) == len(y_pred)\n",
    "    y_pred=np.clip(y_pred,0.01,10**6)\n",
    "    y=np.clip(y,0.01,10**6)\n",
    "    to_sum = [(np.log(y_pred[i] + 1)) - (np.log( y[i] + 1) ** 2.0) for i,pred in enumerate(y_pred)]\n",
    "    return (sum(to_sum) * (1.0/len(y))) ** 0.5"
   ]
  },
  {
   "cell_type": "code",
   "execution_count": 13,
   "metadata": {
    "collapsed": true
   },
   "outputs": [],
   "source": [
    "def rmse(y, y_pred):\n",
    "    assert len(y) == len(y_pred)\n",
    "    to_sum = [(y_pred[i]-y[i]) ** 2.0 for i,pred in enumerate(y_pred)]\n",
    "    return (sum(to_sum) * (1.0/len(y))) ** 0.5"
   ]
  },
  {
   "cell_type": "code",
   "execution_count": 4,
   "metadata": {
    "collapsed": false
   },
   "outputs": [],
   "source": [
    "dictionary=df[['brand_name','price']].groupby('brand_name').mean()\n",
    "di=dictionary.to_dict()['price']\n",
    "df['brand_name']=df.loc[:,'brand_name'].replace(di)"
   ]
  },
  {
   "cell_type": "code",
   "execution_count": 5,
   "metadata": {
    "collapsed": true
   },
   "outputs": [],
   "source": [
    "dictionary=df[['category3','price']].groupby('category3').mean()\n",
    "di=dictionary.to_dict()['price']\n",
    "df['category3']=df.loc[:,'category3'].replace(di)"
   ]
  },
  {
   "cell_type": "code",
   "execution_count": 6,
   "metadata": {
    "collapsed": true
   },
   "outputs": [],
   "source": [
    "\n",
    "df.loc[:, df.dtypes == np.int64]=df.loc[:, df.dtypes == np.int64].astype('int16')"
   ]
  },
  {
   "cell_type": "code",
   "execution_count": 7,
   "metadata": {
    "collapsed": false
   },
   "outputs": [],
   "source": [
    "#df[['category2','category3','brand_name']]= df[['category2','category3','brand_name']].astype('category')\n",
    "df_x=df.drop(['name','item_description','category_name','category','category2' ,'price','brand_name'],axis=1).values\n",
    "df_y=df['price'].values"
   ]
  },
  {
   "cell_type": "code",
   "execution_count": null,
   "metadata": {
    "collapsed": false
   },
   "outputs": [],
   "source": [
    "#category2 = pd.get_dummies(df['category2']).values\n",
    "#category3 = pd.get_dummies(df['category3']).values"
   ]
  },
  {
   "cell_type": "code",
   "execution_count": null,
   "metadata": {
    "collapsed": false
   },
   "outputs": [],
   "source": [
    "#df_x=np.concatenate([df_x.values,category3],axis=1)"
   ]
  },
  {
   "cell_type": "code",
   "execution_count": null,
   "metadata": {
    "collapsed": false,
    "scrolled": true
   },
   "outputs": [],
   "source": [
    "i=0\n",
    "df2 = pd.DataFrame(np.zeros((1,10)) ) \n",
    "for k in range(5):\n",
    "    kf = KFold(n_splits=4)\n",
    "    for train_index, test_index in kf.split(df):\n",
    "        result=[]\n",
    "        X_train, X_test = df_x[train_index], df_x[test_index]\n",
    "        y_train, y_test = df_y[train_index], df_y[test_index]\n",
    "\n",
    "        neigh = linear_model.Lasso(alpha=0.05*(k+1))\n",
    "        neigh.fit(X_train,y_train)\n",
    "        err=rmse(neigh.predict(X_test),y_test)\n",
    "        result.append(err)\n",
    "        \n",
    "        \n",
    "    df2.iloc[0,k]=np.average(result)\n",
    "print(df2)"
   ]
  },
  {
   "cell_type": "code",
   "execution_count": null,
   "metadata": {
    "collapsed": false
   },
   "outputs": [],
   "source": [
    "i=0\n",
    "df2 = pd.DataFrame(np.zeros((5,5)) )\n",
    "hidden_layer_sizes=[(20,),(40,),(20,20),(40,20) ,(20,20,20)]\n",
    "for i in range(5):\n",
    "    for k in range(5):\n",
    "        kf = KFold(n_splits=4)\n",
    "        for train_index, test_index in kf.split(df):\n",
    "            result=[]\n",
    "            X_train, X_test = df_x[train_index], df_x[test_index]\n",
    "            y_train, y_test = df_y[train_index], df_y[test_index]\n",
    "\n",
    "            neigh = MLPRegressor(alpha=0.05*(k+1),hidden_layer_sizes=hidden_layer_sizes[i])\n",
    "            neigh.fit(X_train,y_train)\n",
    "            err=rmse(neigh.predict(X_test),y_test)\n",
    "            result.append(err)\n",
    "            print(err)\n",
    "\n",
    "\n",
    "        df2.iloc[i,k]=np.average(result)\n",
    "        \n",
    "print(df2)\n",
    "\n"
   ]
  },
  {
   "cell_type": "code",
   "execution_count": null,
   "metadata": {
    "collapsed": false
   },
   "outputs": [],
   "source": [
    "n_estimators=[5,10,20,30,50]\n",
    "max_depth=[10, 20, 40, 70, None]\n",
    "i=0\n",
    "df2 = pd.DataFrame(np.zeros((5,10)) ) \n",
    "for i in range(5):\n",
    "    for k in range(5):\n",
    "        kf = KFold(n_splits=4)\n",
    "        for train_index, test_index in kf.split(df):\n",
    "            result=[]\n",
    "            X_train, X_test = df_x[train_index], df_x[test_index]\n",
    "            y_train, y_test = df_y[train_index], df_y[test_index]\n",
    "\n",
    "            neigh = RandomForestRegressor(random_state = 42,n_estimators=n_estimators[i],max_depth=max_depth[k])\n",
    "            neigh.fit(X_train,y_train)\n",
    "            err=rmse(neigh.predict(X_test),y_test)\n",
    "            result.append(err)\n",
    "            print(err)\n",
    "        \n",
    "        df2.iloc[i,k]=np.average(result)\n",
    "        \n",
    "    \n",
    "print(df2)"
   ]
  }
 ],
 "metadata": {
  "anaconda-cloud": {},
  "kernelspec": {
   "display_name": "Python 2",
   "language": "python",
   "name": "python2"
  },
  "language_info": {
   "codemirror_mode": {
    "name": "ipython",
    "version": 2
   },
   "file_extension": ".py",
   "mimetype": "text/x-python",
   "name": "python",
   "nbconvert_exporter": "python",
   "pygments_lexer": "ipython2",
   "version": "2.7.5"
  }
 },
 "nbformat": 4,
 "nbformat_minor": 1
}
