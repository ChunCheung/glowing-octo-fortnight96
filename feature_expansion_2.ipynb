{
 "cells": [
  {
   "cell_type": "code",
   "execution_count": null,
   "metadata": {
    "collapsed": true
   },
   "outputs": [],
   "source": [
    "%matplotlib inline\n",
    "import pandas as pd\n",
    "import pylab\n",
    "import numpy as np\n",
    "import matplotlib as mpl\n",
    "import matplotlib.pyplot as plt\n",
    "import seaborn as sns\n",
    "import scipy as sci\n",
    "from fastdtw import fastdtw\n",
    "from scipy.spatial.distance import euclidean\n",
    "\n",
    "import random\n",
    "from scipy.cluster.hierarchy import dendrogram, linkage\n",
    "import scipy.spatial.distance as ssd\n",
    "from sklearn.ensemble import RandomForestClassifier\n",
    "import sklearn"
   ]
  },
  {
   "cell_type": "code",
   "execution_count": null,
   "metadata": {
    "collapsed": true
   },
   "outputs": [],
   "source": [
    "obs = pd.read_csv('C:/Users/Max/Downloads/data/training_set.csv')\n",
    "meta = pd.read_csv('C:/Users/Max/Downloads/data/training_set_metadata.csv')\n",
    "total=obs.merge(meta,on='object_id')"
   ]
  },
  {
   "cell_type": "code",
   "execution_count": null,
   "metadata": {
    "collapsed": true
   },
   "outputs": [],
   "source": [
    "meta['last_row']=0"
   ]
  },
  {
   "cell_type": "code",
   "execution_count": null,
   "metadata": {
    "collapsed": true
   },
   "outputs": [],
   "source": [
    "df2=total[['flux','passband','object_id']]\n",
    "df3=pd.pivot_table(df2, index='object_id', columns=['passband'], aggfunc=max)\n",
    "#df3.columns = ['_band_Max'.join(str(col)).strip() for col in df3.columns.values]\n",
    "#df3\n",
    "df3.columns = df3.columns.droplevel(0)\n",
    "df3.columns.values\n",
    "df3.columns = [str(col) + '_band_Max' for col in df3.columns]\n",
    "df3.to_csv('C:/Users/Max/Downloads/data/features.csv')"
   ]
  }
 ],
 "metadata": {
  "anaconda-cloud": {},
  "kernelspec": {
   "display_name": "R [conda env:Anaconda3]",
   "language": "R",
   "name": "conda-env-Anaconda3-r"
  },
  "language_info": {
   "codemirror_mode": "r",
   "file_extension": ".r",
   "mimetype": "text/x-r-source",
   "name": "R",
   "pygments_lexer": "r",
   "version": "3.3.2"
  }
 },
 "nbformat": 4,
 "nbformat_minor": 1
}
