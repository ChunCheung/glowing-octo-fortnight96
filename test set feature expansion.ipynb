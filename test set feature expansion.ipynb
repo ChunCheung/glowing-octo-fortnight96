{
 "cells": [
  {
   "cell_type": "code",
   "execution_count": 2,
   "metadata": {
    "collapsed": true
   },
   "outputs": [],
   "source": [
    "%matplotlib inline\n",
    "import pandas as pd\n",
    "import pylab\n",
    "import numpy as np\n",
    "import matplotlib as mpl\n",
    "import matplotlib.pyplot as plt\n",
    "import seaborn as sns\n",
    "import scipy as sci\n",
    "from fastdtw import fastdtw\n",
    "from scipy.spatial.distance import euclidean\n",
    "\n",
    "import random\n",
    "from scipy.cluster.hierarchy import dendrogram, linkage\n",
    "import scipy.spatial.distance as ssd\n",
    "from sklearn.ensemble import RandomForestClassifier\n",
    "import sklearn\n",
    "from time import time\n",
    "import gc\n"
   ]
  },
  {
   "cell_type": "code",
   "execution_count": 43,
   "metadata": {
    "collapsed": false
   },
   "outputs": [],
   "source": [
    "def mag(x):\n",
    "    if x>0:\n",
    "        return -2.5*np.log(x)\n",
    "    else:\n",
    "        return 10\n",
    "def dist(x):\n",
    "    if x>0:\n",
    "        return 44+3*np.log(x)\n",
    "    else:\n",
    "        return 0"
   ]
  },
  {
   "cell_type": "code",
   "execution_count": 12,
   "metadata": {
    "collapsed": false
   },
   "outputs": [],
   "source": [
    "#meta=pd.read_csv(\"/dcs/17/u1403100/Downloads/A2/training_set_metadata.csv\")\n",
    "obs=pd.read_csv(\"/dcs/17/u1403100/Downloads/A2/training_set.csv\")\n",
    "#total=obs.merge(meta,on='object_id')\n",
    "test_meta=meta=pd.read_csv(\"/dcs/17/u1403100/Downloads/A2/meta2.csv\")"
   ]
  },
  {
   "cell_type": "code",
   "execution_count": null,
   "metadata": {
    "collapsed": false
   },
   "outputs": [],
   "source": [
    "from time import time\n",
    "t0=time()\n",
    "df2=total[['flux','passband','object_id']]\n",
    "df3=pd.pivot_table(df2, index='object_id', columns=['passband'], aggfunc=max)\n",
    "df3.columns = df3.columns.droplevel(0)\n",
    "df3.columns = [str(col) + '_band_Max' for col in df3.columns]\n",
    "\n",
    "df4=pd.pivot_table(df2, index='object_id', columns=['passband'], aggfunc=min)\n",
    "df4.columns = df4.columns.droplevel(0)\n",
    "df4.columns = [str(col) + '_band_Min' for col in df4.columns]\n",
    "\n",
    "df5=pd.pivot_table(df2, index='object_id', columns=['passband'], aggfunc=min)\n",
    "df5.columns = df5.columns.droplevel(0)\n",
    "df5.columns = [str(col) + '_band_Median' for col in df5.columns]\n",
    "\n",
    "output=pd.concat([df3,df4,df5],axis=1)\n",
    "#df3.to_csv('C:/Users/Max/Downloads/data/features.csv')\n",
    "t1=time()\n",
    "print(t1-t0)"
   ]
  },
  {
   "cell_type": "code",
   "execution_count": 41,
   "metadata": {
    "collapsed": false,
    "scrolled": true
   },
   "outputs": [
    {
     "name": "stdout",
     "output_type": "stream",
     "text": [
      "-1\n"
     ]
    },
    {
     "ename": "KeyboardInterrupt",
     "evalue": "",
     "output_type": "error",
     "traceback": [
      "\u001b[1;31m---------------------------------------------------------------------------\u001b[0m",
      "\u001b[1;31mKeyboardInterrupt\u001b[0m                         Traceback (most recent call last)",
      "\u001b[1;32m<ipython-input-41-7ebef054c64d>\u001b[0m in \u001b[0;36m<module>\u001b[1;34m()\u001b[0m\n\u001b[0;32m     13\u001b[0m     \u001b[0mend\u001b[0m\u001b[1;33m=\u001b[0m\u001b[0mtest_meta\u001b[0m\u001b[1;33m.\u001b[0m\u001b[0mloc\u001b[0m\u001b[1;33m[\u001b[0m\u001b[0mi_end\u001b[0m\u001b[1;33m,\u001b[0m\u001b[1;34m'last_row'\u001b[0m\u001b[1;33m]\u001b[0m\u001b[1;33m\u001b[0m\u001b[0m\n\u001b[0;32m     14\u001b[0m     df=pd.read_csv('/modules/cs342/Assignment2/test_set.csv',skiprows=range(1, int(start)+2),nrows=int(end-start),\n\u001b[1;32m---> 15\u001b[1;33m                    dtype={'flux':'float32','passband':'int8'},usecols=[0,2,3])\n\u001b[0m\u001b[0;32m     16\u001b[0m     \u001b[0mstart\u001b[0m\u001b[1;33m=\u001b[0m\u001b[0mend\u001b[0m\u001b[1;33m\u001b[0m\u001b[0m\n\u001b[0;32m     17\u001b[0m \u001b[1;33m\u001b[0m\u001b[0m\n",
      "\u001b[1;32m/usr/lib64/python2.7/site-packages/pandas/io/parsers.pyc\u001b[0m in \u001b[0;36mparser_f\u001b[1;34m(filepath_or_buffer, sep, dialect, compression, doublequote, escapechar, quotechar, quoting, skipinitialspace, lineterminator, header, index_col, names, prefix, skiprows, skipfooter, skip_footer, na_values, true_values, false_values, delimiter, converters, dtype, usecols, engine, delim_whitespace, as_recarray, na_filter, compact_ints, use_unsigned, low_memory, buffer_lines, warn_bad_lines, error_bad_lines, keep_default_na, thousands, comment, decimal, parse_dates, keep_date_col, dayfirst, date_parser, memory_map, float_precision, nrows, iterator, chunksize, verbose, encoding, squeeze, mangle_dupe_cols, tupleize_cols, infer_datetime_format, skip_blank_lines)\u001b[0m\n\u001b[0;32m    496\u001b[0m                     skip_blank_lines=skip_blank_lines)\n\u001b[0;32m    497\u001b[0m \u001b[1;33m\u001b[0m\u001b[0m\n\u001b[1;32m--> 498\u001b[1;33m         \u001b[1;32mreturn\u001b[0m \u001b[0m_read\u001b[0m\u001b[1;33m(\u001b[0m\u001b[0mfilepath_or_buffer\u001b[0m\u001b[1;33m,\u001b[0m \u001b[0mkwds\u001b[0m\u001b[1;33m)\u001b[0m\u001b[1;33m\u001b[0m\u001b[0m\n\u001b[0m\u001b[0;32m    499\u001b[0m \u001b[1;33m\u001b[0m\u001b[0m\n\u001b[0;32m    500\u001b[0m     \u001b[0mparser_f\u001b[0m\u001b[1;33m.\u001b[0m\u001b[0m__name__\u001b[0m \u001b[1;33m=\u001b[0m \u001b[0mname\u001b[0m\u001b[1;33m\u001b[0m\u001b[0m\n",
      "\u001b[1;32m/usr/lib64/python2.7/site-packages/pandas/io/parsers.pyc\u001b[0m in \u001b[0;36m_read\u001b[1;34m(filepath_or_buffer, kwds)\u001b[0m\n\u001b[0;32m    273\u001b[0m \u001b[1;33m\u001b[0m\u001b[0m\n\u001b[0;32m    274\u001b[0m     \u001b[1;31m# Create the parser.\u001b[0m\u001b[1;33m\u001b[0m\u001b[1;33m\u001b[0m\u001b[0m\n\u001b[1;32m--> 275\u001b[1;33m     \u001b[0mparser\u001b[0m \u001b[1;33m=\u001b[0m \u001b[0mTextFileReader\u001b[0m\u001b[1;33m(\u001b[0m\u001b[0mfilepath_or_buffer\u001b[0m\u001b[1;33m,\u001b[0m \u001b[1;33m**\u001b[0m\u001b[0mkwds\u001b[0m\u001b[1;33m)\u001b[0m\u001b[1;33m\u001b[0m\u001b[0m\n\u001b[0m\u001b[0;32m    276\u001b[0m \u001b[1;33m\u001b[0m\u001b[0m\n\u001b[0;32m    277\u001b[0m     \u001b[1;32mif\u001b[0m \u001b[1;33m(\u001b[0m\u001b[0mnrows\u001b[0m \u001b[1;32mis\u001b[0m \u001b[1;32mnot\u001b[0m \u001b[0mNone\u001b[0m\u001b[1;33m)\u001b[0m \u001b[1;32mand\u001b[0m \u001b[1;33m(\u001b[0m\u001b[0mchunksize\u001b[0m \u001b[1;32mis\u001b[0m \u001b[1;32mnot\u001b[0m \u001b[0mNone\u001b[0m\u001b[1;33m)\u001b[0m\u001b[1;33m:\u001b[0m\u001b[1;33m\u001b[0m\u001b[0m\n",
      "\u001b[1;32m/usr/lib64/python2.7/site-packages/pandas/io/parsers.pyc\u001b[0m in \u001b[0;36m__init__\u001b[1;34m(self, f, engine, **kwds)\u001b[0m\n\u001b[0;32m    588\u001b[0m             \u001b[0mself\u001b[0m\u001b[1;33m.\u001b[0m\u001b[0moptions\u001b[0m\u001b[1;33m[\u001b[0m\u001b[1;34m'has_index_names'\u001b[0m\u001b[1;33m]\u001b[0m \u001b[1;33m=\u001b[0m \u001b[0mkwds\u001b[0m\u001b[1;33m[\u001b[0m\u001b[1;34m'has_index_names'\u001b[0m\u001b[1;33m]\u001b[0m\u001b[1;33m\u001b[0m\u001b[0m\n\u001b[0;32m    589\u001b[0m \u001b[1;33m\u001b[0m\u001b[0m\n\u001b[1;32m--> 590\u001b[1;33m         \u001b[0mself\u001b[0m\u001b[1;33m.\u001b[0m\u001b[0m_make_engine\u001b[0m\u001b[1;33m(\u001b[0m\u001b[0mself\u001b[0m\u001b[1;33m.\u001b[0m\u001b[0mengine\u001b[0m\u001b[1;33m)\u001b[0m\u001b[1;33m\u001b[0m\u001b[0m\n\u001b[0m\u001b[0;32m    591\u001b[0m \u001b[1;33m\u001b[0m\u001b[0m\n\u001b[0;32m    592\u001b[0m     \u001b[1;32mdef\u001b[0m \u001b[0m_get_options_with_defaults\u001b[0m\u001b[1;33m(\u001b[0m\u001b[0mself\u001b[0m\u001b[1;33m,\u001b[0m \u001b[0mengine\u001b[0m\u001b[1;33m)\u001b[0m\u001b[1;33m:\u001b[0m\u001b[1;33m\u001b[0m\u001b[0m\n",
      "\u001b[1;32m/usr/lib64/python2.7/site-packages/pandas/io/parsers.pyc\u001b[0m in \u001b[0;36m_make_engine\u001b[1;34m(self, engine)\u001b[0m\n\u001b[0;32m    729\u001b[0m     \u001b[1;32mdef\u001b[0m \u001b[0m_make_engine\u001b[0m\u001b[1;33m(\u001b[0m\u001b[0mself\u001b[0m\u001b[1;33m,\u001b[0m \u001b[0mengine\u001b[0m\u001b[1;33m=\u001b[0m\u001b[1;34m'c'\u001b[0m\u001b[1;33m)\u001b[0m\u001b[1;33m:\u001b[0m\u001b[1;33m\u001b[0m\u001b[0m\n\u001b[0;32m    730\u001b[0m         \u001b[1;32mif\u001b[0m \u001b[0mengine\u001b[0m \u001b[1;33m==\u001b[0m \u001b[1;34m'c'\u001b[0m\u001b[1;33m:\u001b[0m\u001b[1;33m\u001b[0m\u001b[0m\n\u001b[1;32m--> 731\u001b[1;33m             \u001b[0mself\u001b[0m\u001b[1;33m.\u001b[0m\u001b[0m_engine\u001b[0m \u001b[1;33m=\u001b[0m \u001b[0mCParserWrapper\u001b[0m\u001b[1;33m(\u001b[0m\u001b[0mself\u001b[0m\u001b[1;33m.\u001b[0m\u001b[0mf\u001b[0m\u001b[1;33m,\u001b[0m \u001b[1;33m**\u001b[0m\u001b[0mself\u001b[0m\u001b[1;33m.\u001b[0m\u001b[0moptions\u001b[0m\u001b[1;33m)\u001b[0m\u001b[1;33m\u001b[0m\u001b[0m\n\u001b[0m\u001b[0;32m    732\u001b[0m         \u001b[1;32melse\u001b[0m\u001b[1;33m:\u001b[0m\u001b[1;33m\u001b[0m\u001b[0m\n\u001b[0;32m    733\u001b[0m             \u001b[1;32mif\u001b[0m \u001b[0mengine\u001b[0m \u001b[1;33m==\u001b[0m \u001b[1;34m'python'\u001b[0m\u001b[1;33m:\u001b[0m\u001b[1;33m\u001b[0m\u001b[0m\n",
      "\u001b[1;32m/usr/lib64/python2.7/site-packages/pandas/io/parsers.pyc\u001b[0m in \u001b[0;36m__init__\u001b[1;34m(self, src, **kwds)\u001b[0m\n\u001b[0;32m   1101\u001b[0m         \u001b[0mkwds\u001b[0m\u001b[1;33m[\u001b[0m\u001b[1;34m'allow_leading_cols'\u001b[0m\u001b[1;33m]\u001b[0m \u001b[1;33m=\u001b[0m \u001b[0mself\u001b[0m\u001b[1;33m.\u001b[0m\u001b[0mindex_col\u001b[0m \u001b[1;32mis\u001b[0m \u001b[1;32mnot\u001b[0m \u001b[0mFalse\u001b[0m\u001b[1;33m\u001b[0m\u001b[0m\n\u001b[0;32m   1102\u001b[0m \u001b[1;33m\u001b[0m\u001b[0m\n\u001b[1;32m-> 1103\u001b[1;33m         \u001b[0mself\u001b[0m\u001b[1;33m.\u001b[0m\u001b[0m_reader\u001b[0m \u001b[1;33m=\u001b[0m \u001b[0m_parser\u001b[0m\u001b[1;33m.\u001b[0m\u001b[0mTextReader\u001b[0m\u001b[1;33m(\u001b[0m\u001b[0msrc\u001b[0m\u001b[1;33m,\u001b[0m \u001b[1;33m**\u001b[0m\u001b[0mkwds\u001b[0m\u001b[1;33m)\u001b[0m\u001b[1;33m\u001b[0m\u001b[0m\n\u001b[0m\u001b[0;32m   1104\u001b[0m \u001b[1;33m\u001b[0m\u001b[0m\n\u001b[0;32m   1105\u001b[0m         \u001b[1;31m# XXX\u001b[0m\u001b[1;33m\u001b[0m\u001b[1;33m\u001b[0m\u001b[0m\n",
      "\u001b[1;31mKeyboardInterrupt\u001b[0m: "
     ]
    }
   ],
   "source": [
    "t0 = time()\n",
    "start=0\n",
    "end=0\n",
    "a=0\n",
    "meta['1_max']=0\n",
    "for i_start in range(-1,3500000,4000):\n",
    "    i_end=min(i_start+4000,test_meta.shape[0]-1)\n",
    "    if i_start==-1:\n",
    "        start=1\n",
    "    else:\n",
    "        start=test_meta.loc[i_start,'last_row']\n",
    "    \n",
    "    end=test_meta.loc[i_end,'last_row']\n",
    "    df=pd.read_csv('/modules/cs342/Assignment2/test_set.csv',skiprows=range(1, int(start)+2),nrows=int(end-start),\n",
    "                   dtype={'flux':'float32','passband':'int8'},usecols=[0,2,3])\n",
    "    start=end\n",
    "    \n",
    "    \n",
    "    df3=pd.pivot_table(df[['flux','passband','object_id']], index='object_id', columns=['passband'], aggfunc=max)\n",
    "    df3.columns = df3.columns.droplevel(0)\n",
    "    df3.columns = [str(col) + '_band_Max' for col in df3.columns]\n",
    "    \n",
    "    if a==0:\n",
    "        #output.to_csv(\"/var/tmp/kdecache-u1403100/features_1.csv\")\n",
    "        df3.to_csv(\"/dcs/17/u1403100/Downloads/A2/features_1.csv\")\n",
    "        a=1\n",
    "    else:\n",
    "        #output.to_csv(\"/var/tmp/kdecache-u1403100/features_1.csv\", mode='a',header=False)\n",
    "        df3.to_csv(\"/dcs/17/u1403100/Downloads/A2/features_1.csv\", mode='a',header=False)\n",
    "    \n",
    "    #print(i_start)\n",
    "    if i_start%100000>95000:\n",
    "        del [[df,df3,start,end]]\n",
    "        gc.collect()\n",
    "        print(i_start)\n",
    "t1 = time()\n",
    "print('function vers1 takes %f' %(t1-t0))"
   ]
  },
  {
   "cell_type": "code",
   "execution_count": 42,
   "metadata": {
    "collapsed": false
   },
   "outputs": [
    {
     "name": "stdout",
     "output_type": "stream",
     "text": [
      "s\n",
      "e\n",
      "e\n",
      "e\n",
      "e\n",
      "function vers1 takes 243.936866\n"
     ]
    }
   ],
   "source": [
    "#creates maximum flux for each object\n",
    "t0 = time()\n",
    "a=0\n",
    "for df in pd.read_csv('/modules/cs342/Assignment2/test_set.csv',chunksize=100000000,\n",
    "                   dtype={'flux':'float32','passband':'int8'},usecols=[0,2,3]):\n",
    "   \n",
    "    \n",
    "    \n",
    "    df3=pd.pivot_table(df[['flux','passband','object_id']], index='object_id', columns=['passband'], aggfunc=max)\n",
    "    df3.columns = df3.columns.droplevel(0)\n",
    "    df3.columns = [str(col) + '_band_Max' for col in df3.columns]\n",
    "    \n",
    "    if a==0:\n",
    "        #output.to_csv(\"/var/tmp/kdecache-u1403100/features_1.csv\")\n",
    "        df3.to_csv(\"/dcs/17/u1403100/Downloads/A2/features_1.csv\")\n",
    "        a=1\n",
    "        print('s')\n",
    "    else:\n",
    "        #output.to_csv(\"/var/tmp/kdecache-u1403100/features_1.csv\", mode='a',header=False)\n",
    "        df3.to_csv(\"/dcs/17/u1403100/Downloads/A2/features_1.csv\", mode='a',header=False)\n",
    "        print('e')\n",
    "    \n",
    "\n",
    "t1 = time()\n",
    "print('function vers1 takes %f' %(t1-t0))"
   ]
  },
  {
   "cell_type": "code",
   "execution_count": 43,
   "metadata": {
    "collapsed": false
   },
   "outputs": [
    {
     "ename": "KeyboardInterrupt",
     "evalue": "",
     "output_type": "error",
     "traceback": [
      "\u001b[1;31m---------------------------------------------------------------------------\u001b[0m",
      "\u001b[1;31mKeyboardInterrupt\u001b[0m                         Traceback (most recent call last)",
      "\u001b[1;32m<ipython-input-43-154becdf5007>\u001b[0m in \u001b[0;36m<module>\u001b[1;34m()\u001b[0m\n\u001b[0;32m      3\u001b[0m \u001b[0ma\u001b[0m\u001b[1;33m=\u001b[0m\u001b[1;36m0\u001b[0m\u001b[1;33m\u001b[0m\u001b[0m\n\u001b[0;32m      4\u001b[0m for df in pd.read_csv('/modules/cs342/Assignment2/test_set.csv',chunksize=100000000,\n\u001b[1;32m----> 5\u001b[1;33m                    dtype={'flux':'float32','passband':'int8'},usecols=[0,2,3]):\n\u001b[0m\u001b[0;32m      6\u001b[0m \u001b[1;33m\u001b[0m\u001b[0m\n\u001b[0;32m      7\u001b[0m \u001b[1;33m\u001b[0m\u001b[0m\n",
      "\u001b[1;32m/usr/lib64/python2.7/site-packages/pandas/io/parsers.pyc\u001b[0m in \u001b[0;36m__iter__\u001b[1;34m(self)\u001b[0m\n\u001b[0;32m    721\u001b[0m             \u001b[1;32mif\u001b[0m \u001b[0mself\u001b[0m\u001b[1;33m.\u001b[0m\u001b[0mchunksize\u001b[0m\u001b[1;33m:\u001b[0m\u001b[1;33m\u001b[0m\u001b[0m\n\u001b[0;32m    722\u001b[0m                 \u001b[1;32mwhile\u001b[0m \u001b[0mTrue\u001b[0m\u001b[1;33m:\u001b[0m\u001b[1;33m\u001b[0m\u001b[0m\n\u001b[1;32m--> 723\u001b[1;33m                     \u001b[1;32myield\u001b[0m \u001b[0mself\u001b[0m\u001b[1;33m.\u001b[0m\u001b[0mread\u001b[0m\u001b[1;33m(\u001b[0m\u001b[0mself\u001b[0m\u001b[1;33m.\u001b[0m\u001b[0mchunksize\u001b[0m\u001b[1;33m)\u001b[0m\u001b[1;33m\u001b[0m\u001b[0m\n\u001b[0m\u001b[0;32m    724\u001b[0m             \u001b[1;32melse\u001b[0m\u001b[1;33m:\u001b[0m\u001b[1;33m\u001b[0m\u001b[0m\n\u001b[0;32m    725\u001b[0m                 \u001b[1;32myield\u001b[0m \u001b[0mself\u001b[0m\u001b[1;33m.\u001b[0m\u001b[0mread\u001b[0m\u001b[1;33m(\u001b[0m\u001b[1;33m)\u001b[0m\u001b[1;33m\u001b[0m\u001b[0m\n",
      "\u001b[1;32m/usr/lib64/python2.7/site-packages/pandas/io/parsers.pyc\u001b[0m in \u001b[0;36mread\u001b[1;34m(self, nrows)\u001b[0m\n\u001b[0;32m    745\u001b[0m                 \u001b[1;32mraise\u001b[0m \u001b[0mValueError\u001b[0m\u001b[1;33m(\u001b[0m\u001b[1;34m'skip_footer not supported for iteration'\u001b[0m\u001b[1;33m)\u001b[0m\u001b[1;33m\u001b[0m\u001b[0m\n\u001b[0;32m    746\u001b[0m \u001b[1;33m\u001b[0m\u001b[0m\n\u001b[1;32m--> 747\u001b[1;33m         \u001b[0mret\u001b[0m \u001b[1;33m=\u001b[0m \u001b[0mself\u001b[0m\u001b[1;33m.\u001b[0m\u001b[0m_engine\u001b[0m\u001b[1;33m.\u001b[0m\u001b[0mread\u001b[0m\u001b[1;33m(\u001b[0m\u001b[0mnrows\u001b[0m\u001b[1;33m)\u001b[0m\u001b[1;33m\u001b[0m\u001b[0m\n\u001b[0m\u001b[0;32m    748\u001b[0m \u001b[1;33m\u001b[0m\u001b[0m\n\u001b[0;32m    749\u001b[0m         \u001b[1;32mif\u001b[0m \u001b[0mself\u001b[0m\u001b[1;33m.\u001b[0m\u001b[0moptions\u001b[0m\u001b[1;33m.\u001b[0m\u001b[0mget\u001b[0m\u001b[1;33m(\u001b[0m\u001b[1;34m'as_recarray'\u001b[0m\u001b[1;33m)\u001b[0m\u001b[1;33m:\u001b[0m\u001b[1;33m\u001b[0m\u001b[0m\n",
      "\u001b[1;32m/usr/lib64/python2.7/site-packages/pandas/io/parsers.pyc\u001b[0m in \u001b[0;36mread\u001b[1;34m(self, nrows)\u001b[0m\n\u001b[0;32m   1195\u001b[0m     \u001b[1;32mdef\u001b[0m \u001b[0mread\u001b[0m\u001b[1;33m(\u001b[0m\u001b[0mself\u001b[0m\u001b[1;33m,\u001b[0m \u001b[0mnrows\u001b[0m\u001b[1;33m=\u001b[0m\u001b[0mNone\u001b[0m\u001b[1;33m)\u001b[0m\u001b[1;33m:\u001b[0m\u001b[1;33m\u001b[0m\u001b[0m\n\u001b[0;32m   1196\u001b[0m         \u001b[1;32mtry\u001b[0m\u001b[1;33m:\u001b[0m\u001b[1;33m\u001b[0m\u001b[0m\n\u001b[1;32m-> 1197\u001b[1;33m             \u001b[0mdata\u001b[0m \u001b[1;33m=\u001b[0m \u001b[0mself\u001b[0m\u001b[1;33m.\u001b[0m\u001b[0m_reader\u001b[0m\u001b[1;33m.\u001b[0m\u001b[0mread\u001b[0m\u001b[1;33m(\u001b[0m\u001b[0mnrows\u001b[0m\u001b[1;33m)\u001b[0m\u001b[1;33m\u001b[0m\u001b[0m\n\u001b[0m\u001b[0;32m   1198\u001b[0m         \u001b[1;32mexcept\u001b[0m \u001b[0mStopIteration\u001b[0m\u001b[1;33m:\u001b[0m\u001b[1;33m\u001b[0m\u001b[0m\n\u001b[0;32m   1199\u001b[0m             \u001b[1;32mif\u001b[0m \u001b[0mself\u001b[0m\u001b[1;33m.\u001b[0m\u001b[0m_first_chunk\u001b[0m\u001b[1;33m:\u001b[0m\u001b[1;33m\u001b[0m\u001b[0m\n",
      "\u001b[1;31mKeyboardInterrupt\u001b[0m: "
     ]
    }
   ],
   "source": [
    "#creates minimum flux for each object\n",
    "t0 = time()\n",
    "a=0\n",
    "for df in pd.read_csv('/modules/cs342/Assignment2/test_set.csv',chunksize=100000000,\n",
    "                   dtype={'flux':'float32','passband':'int8'},usecols=[0,2,3]):\n",
    "   \n",
    "    \n",
    "    \n",
    "    df3=pd.pivot_table(df, index='object_id', columns=['passband'], aggfunc=min)\n",
    "    df3.columns = df3.columns.droplevel(0)\n",
    "    df3.columns = [str(col) + '_band_Min' for col in df3.columns]\n",
    "    \n",
    "    if a==0:\n",
    "        #output.to_csv(\"/var/tmp/kdecache-u1403100/features_1.csv\")\n",
    "        df3.to_csv(\"/dcs/17/u1403100/Downloads/A2/features_2.csv\")\n",
    "        a=1\n",
    "        print('s')\n",
    "    else:\n",
    "        #output.to_csv(\"/var/tmp/kdecache-u1403100/features_1.csv\", mode='a',header=False)\n",
    "        df3.to_csv(\"/dcs/17/u1403100/Downloads/A2/features_2.csv\", mode='a',header=False)\n",
    "        print('e')\n",
    "    \n",
    "\n",
    "t1 = time()\n",
    "print('function vers1 takes %f' %(t1-t0))"
   ]
  },
  {
   "cell_type": "code",
   "execution_count": 14,
   "metadata": {
    "collapsed": false
   },
   "outputs": [
    {
     "name": "stdout",
     "output_type": "stream",
     "text": [
      "s\n",
      "e\n",
      "e\n",
      "e\n",
      "e\n",
      "function vers1 takes 249.658970\n"
     ]
    }
   ],
   "source": [
    "#creates median flux for each object\n",
    "t0 = time()\n",
    "a=0\n",
    "for df in pd.read_csv('/modules/cs342/Assignment2/test_set.csv',chunksize=100000000,\n",
    "                   dtype={'flux':'float16','passband':'int8'},usecols=[0,2,3]):\n",
    "   \n",
    "    \n",
    "    \n",
    "    df3=pd.pivot_table(df, index='object_id', columns=['passband'], aggfunc=np.median)\n",
    "    df3.columns = df3.columns.droplevel(0)\n",
    "    df3.columns = [str(col) + '_band_Median' for col in df3.columns]\n",
    "    \n",
    "    if a==0:\n",
    "        #output.to_csv(\"/var/tmp/kdecache-u1403100/features_1.csv\")\n",
    "        df3.to_csv(\"/dcs/17/u1403100/Downloads/A2/features_3.csv\")\n",
    "        a=1\n",
    "        print('s')\n",
    "    else:\n",
    "        #output.to_csv(\"/var/tmp/kdecache-u1403100/features_1.csv\", mode='a',header=False)\n",
    "        df3.to_csv(\"/dcs/17/u1403100/Downloads/A2/features_3.csv\", mode='a',header=False)\n",
    "        print('e')\n",
    "    \n",
    "\n",
    "t1 = time()\n",
    "print('function vers1 takes %f' %(t1-t0))"
   ]
  },
  {
   "cell_type": "code",
   "execution_count": 44,
   "metadata": {
    "collapsed": false
   },
   "outputs": [
    {
     "name": "stdout",
     "output_type": "stream",
     "text": [
      "s\n",
      "612.013049126\n",
      "e\n",
      "e\n",
      "e\n",
      "e\n",
      "e\n",
      "e\n",
      "e\n",
      "e\n",
      "e\n",
      "function vers1 takes 5438.775828\n"
     ]
    }
   ],
   "source": [
    "t0 = time()\n",
    "a=0\n",
    "for df in pd.read_csv('/modules/cs342/Assignment2/test_set.csv',chunksize=50000000,\n",
    "                   dtype={'flux':'float16','passband':'int8'},usecols=[0,2,3]):\n",
    "   \n",
    "    \n",
    "    \n",
    "    df3=pd.pivot_table(df, index='object_id', columns=['passband'], aggfunc=lambda x: sum(i>max(x)/3 for i in x))\n",
    "    df3.columns = df3.columns.droplevel(0)\n",
    "    df3.columns = [str(col) + '_band_High_Count' for col in df3.columns]\n",
    "    \n",
    "    if a==0:\n",
    "        #output.to_csv(\"/var/tmp/kdecache-u1403100/features_1.csv\")\n",
    "        df3.to_csv(\"/dcs/17/u1403100/Downloads/A2/features_4.csv\")\n",
    "        a=1\n",
    "        print('s')\n",
    "        t1=time()\n",
    "        print(t1-t0)\n",
    "    else:\n",
    "        #output.to_csv(\"/var/tmp/kdecache-u1403100/features_1.csv\", mode='a',header=False)\n",
    "        df3.to_csv(\"/dcs/17/u1403100/Downloads/A2/features_4.csv\", mode='a',header=False)\n",
    "        print('e')\n",
    "    \n",
    "\n",
    "t1 = time()\n",
    "print('function vers1 takes %f' %(t1-t0))"
   ]
  },
  {
   "cell_type": "code",
   "execution_count": 45,
   "metadata": {
    "collapsed": false
   },
   "outputs": [
    {
     "data": {
      "text/plain": [
       "158"
      ]
     },
     "execution_count": 45,
     "metadata": {},
     "output_type": "execute_result"
    }
   ],
   "source": [
    "gc.collect()"
   ]
  },
  {
   "cell_type": "code",
   "execution_count": 46,
   "metadata": {
    "collapsed": false
   },
   "outputs": [
    {
     "name": "stdout",
     "output_type": "stream",
     "text": [
      "s\n",
      "e\n",
      "e\n",
      "e\n",
      "e\n",
      "e\n",
      "e\n",
      "e\n",
      "e\n",
      "e\n",
      "function vers1 takes 5436.826298\n"
     ]
    }
   ],
   "source": [
    "t0 = time()\n",
    "a=0\n",
    "for df in pd.read_csv('/modules/cs342/Assignment2/test_set.csv',chunksize=50000000,\n",
    "                   dtype={'flux':'float16','passband':'int8'},usecols=[0,2,3]):\n",
    "   \n",
    "    \n",
    "    \n",
    "    df3=pd.pivot_table(df, index='object_id', columns=['passband'], aggfunc=lambda x: sum(i<min(x)/3 for i in x))\n",
    "    df3.columns = df3.columns.droplevel(0)\n",
    "    df3.columns = [str(col) + '_band_Low_Count' for col in df3.columns]\n",
    "    \n",
    "    if a==0:\n",
    "        #output.to_csv(\"/var/tmp/kdecache-u1403100/features_1.csv\")\n",
    "        df3.to_csv(\"/dcs/17/u1403100/Downloads/A2/features_5.csv\")\n",
    "        a=1\n",
    "        print('s')\n",
    "    else:\n",
    "        #output.to_csv(\"/var/tmp/kdecache-u1403100/features_1.csv\", mode='a',header=False)\n",
    "        df3.to_csv(\"/dcs/17/u1403100/Downloads/A2/features_5.csv\", mode='a',header=False)\n",
    "        print('e')\n",
    "    \n",
    "\n",
    "t1 = time()\n",
    "print('function vers1 takes %f' %(t1-t0))"
   ]
  },
  {
   "cell_type": "code",
   "execution_count": 65,
   "metadata": {
    "collapsed": false
   },
   "outputs": [
    {
     "name": "stdout",
     "output_type": "stream",
     "text": [
      "s\n",
      "e\n",
      "e\n",
      "e\n",
      "e\n",
      "e\n",
      "e\n",
      "e\n",
      "e\n",
      "e\n",
      "function vers1 takes 178.505941\n"
     ]
    }
   ],
   "source": [
    "t0 = time()\n",
    "a=0\n",
    "for df in pd.read_csv('/modules/cs342/Assignment2/test_set.csv',chunksize=50000000,\n",
    "                   dtype={'detected':'int8'},usecols=[0,1,5]):\n",
    "   \n",
    "    \n",
    "    \n",
    "    df3=pd.pivot_table(df[df['detected']==1].drop(['detected'],axis=1), index='object_id',aggfunc=[max,min])\n",
    "    df3.columns = df3.columns.droplevel(0)\n",
    "    df3.columns=['max','min']\n",
    "    df3['duration']=df3['max']-df3['min']\n",
    "    df3.drop(['max','min'],axis=1,inplace=True)\n",
    "    if a==0:\n",
    "        #output.to_csv(\"/var/tmp/kdecache-u1403100/features_1.csv\")\n",
    "        df3.to_csv(\"/dcs/17/u1403100/Downloads/A2/features_6.csv\")\n",
    "        a=1\n",
    "        print('s')\n",
    "    else:\n",
    "        #output.to_csv(\"/var/tmp/kdecache-u1403100/features_1.csv\", mode='a',header=False)\n",
    "        df3.to_csv(\"/dcs/17/u1403100/Downloads/A2/features_6.csv\", mode='a',header=False)\n",
    "        print('e')\n",
    "    \n",
    "\n",
    "t1 = time()\n",
    "print('function vers1 takes %f' %(t1-t0))"
   ]
  },
  {
   "cell_type": "code",
   "execution_count": 63,
   "metadata": {
    "collapsed": false
   },
   "outputs": [],
   "source": [
    "df=pd.read_csv('/dcs/17/u1403100/Downloads/A2/features_1.csv')\n",
    "df=pd.pivot_table(df1,index='object_id',aggfunc=np.mean)\n",
    "df.to_csv(\"/dcs/17/u1403100/Downloads/A2/features_1.csv\")"
   ]
  },
  {
   "cell_type": "code",
   "execution_count": 3,
   "metadata": {
    "collapsed": false
   },
   "outputs": [],
   "source": [
    "df=pd.read_csv('/dcs/17/u1403100/Downloads/A2/features_2.csv')\n",
    "df=pd.pivot_table(df,index='object_id',aggfunc=min)\n",
    "df.to_csv(\"/dcs/17/u1403100/Downloads/A2/features_2.csv\")"
   ]
  },
  {
   "cell_type": "code",
   "execution_count": 4,
   "metadata": {
    "collapsed": true
   },
   "outputs": [],
   "source": [
    "df=pd.read_csv('/dcs/17/u1403100/Downloads/A2/features_3.csv')\n",
    "df=pd.pivot_table(df,index='object_id',aggfunc=np.mean)\n",
    "df.to_csv(\"/dcs/17/u1403100/Downloads/A2/features_3.csv\")"
   ]
  },
  {
   "cell_type": "code",
   "execution_count": 47,
   "metadata": {
    "collapsed": true
   },
   "outputs": [],
   "source": [
    "df=pd.read_csv('/dcs/17/u1403100/Downloads/A2/features_4.csv')\n",
    "df=pd.pivot_table(df,index='object_id',aggfunc=np.mean)\n",
    "df.to_csv(\"/dcs/17/u1403100/Downloads/A2/features_4.csv\")\n",
    "#todp"
   ]
  },
  {
   "cell_type": "code",
   "execution_count": 48,
   "metadata": {
    "collapsed": true
   },
   "outputs": [],
   "source": [
    "df=pd.read_csv('/dcs/17/u1403100/Downloads/A2/features_5.csv')\n",
    "df=pd.pivot_table(df,index='object_id',aggfunc=np.mean)\n",
    "df.to_csv(\"/dcs/17/u1403100/Downloads/A2/features_5.csv\")\n",
    "#todo"
   ]
  },
  {
   "cell_type": "code",
   "execution_count": 9,
   "metadata": {
    "collapsed": true
   },
   "outputs": [],
   "source": [
    "df=pd.read_csv('/dcs/17/u1403100/Downloads/A2/features_6.csv')\n",
    "df=pd.pivot_table(df,index='object_id',aggfunc=sum)\n",
    "df.to_csv(\"/dcs/17/u1403100/Downloads/A2/features_6.csv\")"
   ]
  },
  {
   "cell_type": "code",
   "execution_count": 49,
   "metadata": {
    "collapsed": false
   },
   "outputs": [],
   "source": [
    "gc.collect()\n",
    "df1=pd.read_csv('/dcs/17/u1403100/Downloads/A2/features_1.csv')\n",
    "df2=pd.read_csv('/dcs/17/u1403100/Downloads/A2/features_2.csv')\n",
    "df3=pd.read_csv('/dcs/17/u1403100/Downloads/A2/features_3.csv')\n",
    "df4=pd.read_csv('/dcs/17/u1403100/Downloads/A2/features_4.csv')\n",
    "df5=pd.read_csv('/dcs/17/u1403100/Downloads/A2/features_5.csv')\n",
    "df6=pd.read_csv('/dcs/17/u1403100/Downloads/A2/features_6.csv')"
   ]
  },
  {
   "cell_type": "code",
   "execution_count": 55,
   "metadata": {
    "collapsed": false,
    "scrolled": false
   },
   "outputs": [],
   "source": [
    "merged_df = pd.concat([test_meta,df1,df2,df3,df4,df5,df6],axis=1)\n",
    "merged_df.dropna(how='all',inplace=True)\n",
    "merged_df['distmod']=merged_df['hostgal_photoz'].apply(dist)\n",
    "\n",
    "for i in range(6):\n",
    "    merged_df[str(i)+'_band_abs_mag']=merged_df[str(i)+'_band_Max'].apply(mag)-merged_df['distmod']\n",
    "\n",
    "\n",
    "merged_df.to_csv(\"/dcs/17/u1403100/Downloads/A2/test_final.csv\",index=False)"
   ]
  },
  {
   "cell_type": "code",
   "execution_count": 54,
   "metadata": {
    "collapsed": true
   },
   "outputs": [],
   "source": [
    "merged_df.to_csv(\"/dcs/17/u1403100/Downloads/A2/test_final.csv\",index=False)"
   ]
  }
 ],
 "metadata": {
  "anaconda-cloud": {},
  "kernelspec": {
   "display_name": "Python 2",
   "language": "python",
   "name": "python2"
  },
  "language_info": {
   "codemirror_mode": {
    "name": "ipython",
    "version": 2
   },
   "file_extension": ".py",
   "mimetype": "text/x-python",
   "name": "python",
   "nbconvert_exporter": "python",
   "pygments_lexer": "ipython2",
   "version": "2.7.5"
  }
 },
 "nbformat": 4,
 "nbformat_minor": 1
}
