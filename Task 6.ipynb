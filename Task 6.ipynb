{
 "cells": [
  {
   "cell_type": "code",
   "execution_count": 1,
   "metadata": {
    "collapsed": false
   },
   "outputs": [
    {
     "name": "stderr",
     "output_type": "stream",
     "text": [
      "Using TensorFlow backend.\n"
     ]
    }
   ],
   "source": [
    "import pandas as pd\n",
    "from tensorflow.python import keras # High level, easy to use, intuitive DNN library\n",
    "from tensorflow.python.keras.datasets import mnist # Digits data\n",
    "from tensorflow.python.keras.models import Sequential, Model # Method that helps us build the model,\n",
    "                                                      # by stacking the layers together\n",
    "from tensorflow.python.keras.layers import Dense, Dropout, Flatten # Different layers as part of the network;\n",
    "# Dense layer - is your regular linear layer, # Dropt out sets some of the weights to zero randomly\n",
    "# to prevent from overfitting; Flatten does exactly what it sounds like, flattens the multi-dimensional array\n",
    "# into one dimension\n",
    "from tensorflow.python.keras.layers import Conv2D, MaxPooling2D #2D convolution array, and Max Pooling array\n",
    "from tensorflow.python.keras import backend as K\n",
    "import numpy as np\n",
    "import gc\n",
    "from keras.utils import to_categorical"
   ]
  },
  {
   "cell_type": "code",
   "execution_count": null,
   "metadata": {
    "collapsed": true
   },
   "outputs": [],
   "source": []
  },
  {
   "cell_type": "code",
   "execution_count": 2,
   "metadata": {
    "collapsed": false
   },
   "outputs": [],
   "source": [
    "obs = pd.read_csv('C:/Users/Max/Downloads/data/training_set.csv')\n",
    "meta = pd.read_csv('C:/Users/Max/Downloads/data/training_set_metadata.csv')"
   ]
  },
  {
   "cell_type": "code",
   "execution_count": 3,
   "metadata": {
    "collapsed": false
   },
   "outputs": [],
   "source": [
    "obs2=obs[['object_id','flux']]"
   ]
  },
  {
   "cell_type": "code",
   "execution_count": 44,
   "metadata": {
    "collapsed": false
   },
   "outputs": [
    {
     "data": {
      "text/plain": [
       "352"
      ]
     },
     "execution_count": 44,
     "metadata": {},
     "output_type": "execute_result"
    }
   ],
   "source": [
    "max(obs.groupby('object_id').apply(len))"
   ]
  },
  {
   "cell_type": "code",
   "execution_count": 4,
   "metadata": {
    "collapsed": false
   },
   "outputs": [
    {
     "name": "stdout",
     "output_type": "stream",
     "text": [
      "0.7187788486480713\n"
     ]
    }
   ],
   "source": [
    "from time import time\n",
    "t0=time()\n",
    "res = obs2.assign(ValNum=obs2.groupby('object_id').cumcount()+1)\\\n",
    "        .pivot(index='object_id', columns='ValNum', values='flux')\\\n",
    "        .reset_index()\n",
    "t1=time()\n",
    "print(t1-t0)"
   ]
  },
  {
   "cell_type": "code",
   "execution_count": 48,
   "metadata": {
    "collapsed": false
   },
   "outputs": [
    {
     "name": "stdout",
     "output_type": "stream",
     "text": [
      "0.8437988758087158\n"
     ]
    }
   ],
   "source": [
    "from time import time\n",
    "t0=time()\n",
    "res2 = obs.assign(ValNum=obs2.groupby('object_id').cumcount()+1)\\\n",
    "        .pivot(index='object_id', columns='ValNum', values='detected')\\\n",
    "        .reset_index()\n",
    "t1=time()\n",
    "print(t1-t0)"
   ]
  },
  {
   "cell_type": "code",
   "execution_count": 5,
   "metadata": {
    "collapsed": false
   },
   "outputs": [],
   "source": [
    "res=res.fillna(0)"
   ]
  },
  {
   "cell_type": "code",
   "execution_count": 31,
   "metadata": {
    "collapsed": false
   },
   "outputs": [],
   "source": [
    "train_x=res.loc[:7000,:].drop(['object_id'],axis=1).values\n",
    "test_x=res.loc[7001:,:].drop(['object_id'],axis=1).values\n",
    "train_y=pd.get_dummies(meta.loc[:7000,:]['target']).values\n",
    "test_y=pd.get_dummies(meta.loc[7001:,:]['target']).values"
   ]
  },
  {
   "cell_type": "code",
   "execution_count": 7,
   "metadata": {
    "collapsed": false
   },
   "outputs": [
    {
     "data": {
      "text/plain": [
       "(7001, 352)"
      ]
     },
     "execution_count": 7,
     "metadata": {},
     "output_type": "execute_result"
    }
   ],
   "source": [
    "train_x.shape"
   ]
  },
  {
   "cell_type": "code",
   "execution_count": 52,
   "metadata": {
    "collapsed": false
   },
   "outputs": [
    {
     "data": {
      "text/plain": [
       "(7001, 352, 2)"
      ]
     },
     "execution_count": 52,
     "metadata": {},
     "output_type": "execute_result"
    }
   ],
   "source": [
    "np.dstack((train_x,train_x)).shape"
   ]
  },
  {
   "cell_type": "code",
   "execution_count": 32,
   "metadata": {
    "collapsed": false
   },
   "outputs": [],
   "source": [
    "train_x = train_x.reshape(7001,352,1)\n",
    "test_x = test_x.reshape(847,352,1)\n"
   ]
  },
  {
   "cell_type": "code",
   "execution_count": 47,
   "metadata": {
    "collapsed": false,
    "scrolled": true
   },
   "outputs": [],
   "source": [
    "from keras.models import Model\n",
    "from keras.layers import Conv1D, Dense, MaxPool1D, Flatten, Input\n",
    "import numpy as np\n",
    "seq_length = 352\n",
    "inp =  Input(shape=(352, 1))\n",
    "\n",
    "conv = Conv1D(filters=2, kernel_size=2)(inp)\n",
    "pool = MaxPool1D(pool_size=2)(conv)\n",
    "flat = Flatten()(pool)\n",
    "dense = Dense(14)(flat)\n",
    "model = Model(inp, dense)\n",
    "#model.compile(loss='mse', optimizer='adam')\n",
    "\n",
    "model.compile(loss='categorical_crossentropy',\n",
    "              optimizer='rmsprop',\n",
    "              metrics=['accuracy'])\n"
   ]
  },
  {
   "cell_type": "code",
   "execution_count": 37,
   "metadata": {
    "collapsed": false
   },
   "outputs": [
    {
     "name": "stdout",
     "output_type": "stream",
     "text": [
      "_________________________________________________________________\n",
      "Layer (type)                 Output Shape              Param #   \n",
      "=================================================================\n",
      "input_6 (InputLayer)         (None, 352, 1)            0         \n",
      "_________________________________________________________________\n",
      "conv1d_12 (Conv1D)           (None, 351, 2)            6         \n",
      "_________________________________________________________________\n",
      "max_pooling1d_7 (MaxPooling1 (None, 175, 2)            0         \n",
      "_________________________________________________________________\n",
      "flatten_6 (Flatten)          (None, 350)               0         \n",
      "_________________________________________________________________\n",
      "dense_7 (Dense)              (None, 14)                4914      \n",
      "=================================================================\n",
      "Total params: 4,920\n",
      "Trainable params: 4,920\n",
      "Non-trainable params: 0\n",
      "_________________________________________________________________\n",
      "None\n"
     ]
    }
   ],
   "source": [
    "print(model.summary())"
   ]
  },
  {
   "cell_type": "code",
   "execution_count": 38,
   "metadata": {
    "collapsed": false
   },
   "outputs": [
    {
     "name": "stdout",
     "output_type": "stream",
     "text": [
      "Epoch 1/10\n",
      "7001/7001 [==============================] - 2s 308us/step - loss: 8.4533 - acc: 0.0863\n",
      "Epoch 2/10\n",
      "7001/7001 [==============================] - 1s 163us/step - loss: 8.0687 - acc: 0.1770\n",
      "Epoch 3/10\n",
      "7001/7001 [==============================] - 1s 183us/step - loss: 8.2329 - acc: 0.1835\n",
      "Epoch 4/10\n",
      "7001/7001 [==============================] - 1s 183us/step - loss: 8.2268 - acc: 0.1884\n",
      "Epoch 5/10\n",
      "7001/7001 [==============================] - 1s 163us/step - loss: 8.0908 - acc: 0.2005\n",
      "Epoch 6/10\n",
      "7001/7001 [==============================] - 1s 163us/step - loss: 8.4540 - acc: 0.2310\n",
      "Epoch 7/10\n",
      "7001/7001 [==============================] - 1s 185us/step - loss: 8.2946 - acc: 0.2298\n",
      "Epoch 8/10\n",
      "7001/7001 [==============================] - 1s 163us/step - loss: 8.3712 - acc: 0.2065\n",
      "Epoch 9/10\n",
      "7001/7001 [==============================] - 1s 161us/step - loss: 8.3353 - acc: 0.1993\n",
      "Epoch 10/10\n",
      "7001/7001 [==============================] - 1s 161us/step - loss: 8.3638 - acc: 0.1907\n",
      "847/847 [==============================] - 0s 184us/step\n"
     ]
    }
   ],
   "source": [
    "model.fit(train_x, train_y, batch_size=16, epochs=10)\n",
    "score = model.evaluate(test_x, test_y, batch_size=16)"
   ]
  },
  {
   "cell_type": "code",
   "execution_count": 28,
   "metadata": {
    "collapsed": false
   },
   "outputs": [
    {
     "name": "stdout",
     "output_type": "stream",
     "text": [
      "_________________________________________________________________\n",
      "Layer (type)                 Output Shape              Param #   \n",
      "=================================================================\n",
      "input_4 (InputLayer)         (None, 352, 1)            0         \n",
      "_________________________________________________________________\n",
      "conv1d_10 (Conv1D)           (None, 351, 2)            6         \n",
      "_________________________________________________________________\n",
      "max_pooling1d_5 (MaxPooling1 (None, 175, 2)            0         \n",
      "_________________________________________________________________\n",
      "flatten_4 (Flatten)          (None, 350)               0         \n",
      "_________________________________________________________________\n",
      "dense_5 (Dense)              (None, 1)                 351       \n",
      "=================================================================\n",
      "Total params: 357\n",
      "Trainable params: 357\n",
      "Non-trainable params: 0\n",
      "_________________________________________________________________\n",
      "None\n",
      "Epoch 1/1\n",
      "10/10 [==============================] - 0s 28ms/step - loss: 1.3270\n"
     ]
    },
    {
     "data": {
      "text/plain": [
       "<keras.callbacks.History at 0xf05696dc88>"
      ]
     },
     "execution_count": 28,
     "metadata": {},
     "output_type": "execute_result"
    }
   ],
   "source": [
    "\n",
    "from keras.models import Model\n",
    "from keras.layers import Conv1D, Dense, MaxPool1D, Flatten, Input\n",
    "import numpy as np\n",
    "\n",
    "inp =  Input(shape=(352, 1))\n",
    "conv = Conv1D(filters=2, kernel_size=2)(inp)\n",
    "pool = MaxPool1D(pool_size=2)(conv)\n",
    "flat = Flatten()(pool)\n",
    "dense = Dense(1)(flat)\n",
    "model = Model(inp, dense)\n",
    "model.compile(loss='mse', optimizer='adam')\n",
    "\n",
    "print(model.summary())\n",
    "\n",
    "# get some data\n",
    "X = np.expand_dims(np.random.randn(10, 352), axis=2)\n",
    "y = np.random.randn(10, 1)\n",
    "\n",
    "# fit model\n",
    "model.fit(X, y)"
   ]
  },
  {
   "cell_type": "code",
   "execution_count": null,
   "metadata": {
    "collapsed": false
   },
   "outputs": [],
   "source": [
    "from keras.models import Sequential\n",
    "from keras.layers import Dense, Dropout\n",
    "from keras.layers import Embedding\n",
    "from keras.layers import Conv1D, GlobalAveragePooling1D, MaxPooling1D\n",
    "\n",
    "model = Sequential()\n",
    "model.add(Conv1D(64, 3, activation='relu', input_shape=(seq_length, 5)))\n",
    "model.add(Conv1D(64, 3, activation='relu'))\n",
    "model.add(MaxPooling1D(3))\n",
    "model.add(Conv1D(128, 3, activation='relu'))\n",
    "model.add(Conv1D(128, 3, activation='relu'))\n",
    "model.add(GlobalAveragePooling1D())\n",
    "model.add(Dropout(0.5))\n",
    "model.add(Dense(1, activation='sigmoid'))\n",
    "\n",
    "model.compile(loss='categorical_crossentropy',\n",
    "              optimizer='rmsprop',\n",
    "              metrics=['accuracy'])\n",
    "\n",
    "model.fit(x_train, y_train, batch_size=16, epochs=10)\n",
    "score = model.evaluate(x_test, y_test, batch_size=16)"
   ]
  }
 ],
 "metadata": {
  "anaconda-cloud": {},
  "kernelspec": {
   "display_name": "Python [conda env:Anaconda3]",
   "language": "python",
   "name": "conda-env-Anaconda3-py"
  },
  "language_info": {
   "codemirror_mode": {
    "name": "ipython",
    "version": 3
   },
   "file_extension": ".py",
   "mimetype": "text/x-python",
   "name": "python",
   "nbconvert_exporter": "python",
   "pygments_lexer": "ipython3",
   "version": "3.5.6"
  }
 },
 "nbformat": 4,
 "nbformat_minor": 1
}
