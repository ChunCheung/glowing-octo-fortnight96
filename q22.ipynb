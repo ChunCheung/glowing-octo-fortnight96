{
 "cells": [
  {
   "cell_type": "code",
   "execution_count": 8,
   "metadata": {
    "collapsed": true
   },
   "outputs": [],
   "source": [
    "%matplotlib inline\n",
    "import pandas as pd\n",
    "import pylab\n",
    "import numpy as np\n",
    "import matplotlib as mpl\n",
    "import matplotlib.pyplot as plt\n",
    "import seaborn as sns\n",
    "import scipy as sci\n",
    "from fastdtw import fastdtw\n",
    "from scipy.spatial.distance import euclidean\n",
    "\n",
    "import random\n",
    "from scipy.cluster.hierarchy import dendrogram, linkage\n",
    "import scipy.spatial.distance as ssd\n",
    "from sklearn.ensemble import RandomForestClassifier\n",
    "import sklearn\n",
    "from sklearn.neural_network import MLPClassifier\n",
    "from sklearn.model_selection import GridSearchCV\n",
    "from time import time"
   ]
  },
  {
   "cell_type": "code",
   "execution_count": 3,
   "metadata": {
    "collapsed": true
   },
   "outputs": [],
   "source": [
    "obs = pd.read_csv('C:/Users/Max/Downloads/data/training_set.csv')\n",
    "meta = pd.read_csv('C:/Users/Max/Downloads/data/training_set_metadata.csv')"
   ]
  },
  {
   "cell_type": "code",
   "execution_count": 4,
   "metadata": {
    "collapsed": true
   },
   "outputs": [],
   "source": [
    "mlp = MLPClassifier(max_iter=100)\n",
    "parameter_space = {\n",
    "    'hidden_layer_sizes': [(50,50,50), (50,100,50), (100,)],\n",
    "    'activation': ['tanh', 'relu'],\n",
    "    'solver': ['sgd', 'adam'],\n",
    "    'alpha': [0.0001, 0.05],\n",
    "    'learning_rate': ['constant','adaptive'],\n",
    "}"
   ]
  },
  {
   "cell_type": "code",
   "execution_count": 9,
   "metadata": {
    "collapsed": false
   },
   "outputs": [
    {
     "name": "stdout",
     "output_type": "stream",
     "text": [
      "function vers1 takes 1991.048197\n"
     ]
    }
   ],
   "source": [
    "t0 = time()\n",
    "test=meta.object_id.sample(n=200)\n",
    "obs_test=obs[obs.object_id.isin(list(test))]\n",
    "meta_test=meta[meta.object_id.isin(list(test))]\n",
    "full_test=obs_test.merge(meta_test,on=\"object_id\")\n",
    "full_x=full_test.drop([\"target\",\"distmod\"],axis=1)\n",
    "full_y=full_test[\"target\"]\n",
    "\n",
    "train_index=meta.object_id.sample(n=100)\n",
    "obs_train=obs[obs.object_id.isin(list(train_index))]\n",
    "meta_train=meta[meta.object_id.isin(list(train_index))]\n",
    "full_train=obs_train.merge(meta_train,on=\"object_id\")\n",
    "full_x_train=full_train.drop([\"target\",\"distmod\"],axis=1)\n",
    "full_y_train=full_train[\"target\"]\n",
    "\n",
    "\n",
    "clf = GridSearchCV(mlp, parameter_space, n_jobs=-1, cv=3)\n",
    "clf.fit(full_x, full_y)\n",
    "\n",
    "\n",
    "\n",
    "\n",
    "t1 = time()\n",
    "print('function vers1 takes %f' %(t1-t0))"
   ]
  },
  {
   "cell_type": "code",
   "execution_count": 10,
   "metadata": {
    "collapsed": false
   },
   "outputs": [
    {
     "name": "stdout",
     "output_type": "stream",
     "text": [
      "Best parameters found:\n",
      " {'alpha': 0.0001, 'activation': 'relu', 'learning_rate': 'constant', 'hidden_layer_sizes': (50, 50, 50), 'solver': 'sgd'}\n"
     ]
    }
   ],
   "source": [
    "print('Best parameters found:\\n', clf.best_params_)"
   ]
  },
  {
   "cell_type": "code",
   "execution_count": 24,
   "metadata": {
    "collapsed": false
   },
   "outputs": [],
   "source": [
    "mlp = MLPClassifier(max_iter=70,hidden_layer_sizes=(40,60,40),activation='tanh',solver='adam',alpha=0.00005,learning_rate='constant')\n"
   ]
  },
  {
   "cell_type": "code",
   "execution_count": 25,
   "metadata": {
    "collapsed": false
   },
   "outputs": [
    {
     "name": "stdout",
     "output_type": "stream",
     "text": [
      "function vers1 takes 367.913763\n"
     ]
    }
   ],
   "source": [
    "t0 = time()\n",
    "test=meta.object_id.sample(n=300)\n",
    "obs_test=obs[obs.object_id.isin(list(test))]\n",
    "meta_test=meta[meta.object_id.isin(list(test))]\n",
    "full_test=obs_test.merge(meta_test,on=\"object_id\")\n",
    "full_x=full_test.drop([\"target\",\"distmod\"],axis=1)\n",
    "full_y=full_test[\"target\"]\n",
    "\n",
    "train_index=meta.object_id.sample(n=100)\n",
    "obs_train=obs[obs.object_id.isin(list(train_index))]\n",
    "meta_train=meta[meta.object_id.isin(list(train_index))]\n",
    "full_train=obs_train.merge(meta_train,on=\"object_id\")\n",
    "full_x_train=full_train.drop([\"target\",\"distmod\"],axis=1)\n",
    "full_y_train=full_train[\"target\"]\n",
    "\n",
    "\n",
    "clf = GridSearchCV(mlp, parameter_space, n_jobs=-1, cv=3)\n",
    "clf.fit(full_x, full_y)\n",
    "\n",
    "\n",
    "\n",
    "\n",
    "t1 = time()\n",
    "print('function vers1 takes %f' %(t1-t0))"
   ]
  },
  {
   "cell_type": "code",
   "execution_count": 26,
   "metadata": {
    "collapsed": false
   },
   "outputs": [
    {
     "name": "stdout",
     "output_type": "stream",
     "text": [
      "Best parameters found:\n",
      " {'alpha': 5e-05, 'activation': 'tanh', 'learning_rate': 'constant', 'hidden_layer_sizes': (40, 60, 40), 'solver': 'adam'}\n"
     ]
    }
   ],
   "source": [
    "print('Best parameters found:\\n', clf.best_params_)"
   ]
  }
 ],
 "metadata": {
  "anaconda-cloud": {},
  "kernelspec": {
   "display_name": "Python [conda env:Anaconda3]",
   "language": "python",
   "name": "conda-env-Anaconda3-py"
  },
  "language_info": {
   "codemirror_mode": {
    "name": "ipython",
    "version": 3
   },
   "file_extension": ".py",
   "mimetype": "text/x-python",
   "name": "python",
   "nbconvert_exporter": "python",
   "pygments_lexer": "ipython3",
   "version": "3.5.6"
  }
 },
 "nbformat": 4,
 "nbformat_minor": 1
}
